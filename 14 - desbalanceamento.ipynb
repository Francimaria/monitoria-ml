{
 "cells": [
  {
   "cell_type": "markdown",
   "metadata": {},
   "source": [
    "# Desbalanceamento\n",
    "\n",
    "***"
   ]
  },
  {
   "cell_type": "code",
   "execution_count": 171,
   "metadata": {},
   "outputs": [],
   "source": [
    "import pandas as pd\n",
    "import numpy as np\n",
    "import matplotlib.pyplot as plt\n",
    "import seaborn as sns\n",
    "\n",
    "# Classes do modelo\n",
    "from sklearn.linear_model import LogisticRegression\n",
    "\n",
    "# Funções de avaliação dos modelos\n",
    "from sklearn.metrics import classification_report\n",
    "from sklearn.model_selection import train_test_split, GridSearchCV, StratifiedKFold\n",
    "\n",
    "\n",
    "import warnings\n",
    "warnings.filterwarnings('ignore')"
   ]
  },
  {
   "cell_type": "markdown",
   "metadata": {},
   "source": [
    "## Análise do conjunto de dados\n",
    "\n",
    "Abalone -  O Abalone é um molusco gastrópode, herbívoro, que se alimenta de algas marinhas durante aproximadamente 48 meses.\n",
    "\n",
    "Preveja a idade do abalone a partir de medições físicas. \n",
    "\n",
    "https://archive.ics.uci.edu/dataset/1/abalone\n",
    "\n"
   ]
  },
  {
   "cell_type": "code",
   "execution_count": 174,
   "metadata": {},
   "outputs": [],
   "source": [
    "df = pd.read_csv(\"abalone.csv\")"
   ]
  },
  {
   "cell_type": "code",
   "execution_count": 175,
   "metadata": {},
   "outputs": [
    {
     "data": {
      "text/html": [
       "<div>\n",
       "<style scoped>\n",
       "    .dataframe tbody tr th:only-of-type {\n",
       "        vertical-align: middle;\n",
       "    }\n",
       "\n",
       "    .dataframe tbody tr th {\n",
       "        vertical-align: top;\n",
       "    }\n",
       "\n",
       "    .dataframe thead th {\n",
       "        text-align: right;\n",
       "    }\n",
       "</style>\n",
       "<table border=\"1\" class=\"dataframe\">\n",
       "  <thead>\n",
       "    <tr style=\"text-align: right;\">\n",
       "      <th></th>\n",
       "      <th>Rings</th>\n",
       "      <th>Sex</th>\n",
       "      <th>Length</th>\n",
       "      <th>Diameter</th>\n",
       "      <th>Height</th>\n",
       "      <th>WholeWeight</th>\n",
       "      <th>ShuckedWeight</th>\n",
       "      <th>VisceraWeight</th>\n",
       "      <th>ShellWeight</th>\n",
       "    </tr>\n",
       "  </thead>\n",
       "  <tbody>\n",
       "    <tr>\n",
       "      <th>0</th>\n",
       "      <td>15</td>\n",
       "      <td>0</td>\n",
       "      <td>0.455</td>\n",
       "      <td>0.365</td>\n",
       "      <td>0.095</td>\n",
       "      <td>0.5140</td>\n",
       "      <td>0.2245</td>\n",
       "      <td>0.1010</td>\n",
       "      <td>0.150</td>\n",
       "    </tr>\n",
       "    <tr>\n",
       "      <th>1</th>\n",
       "      <td>7</td>\n",
       "      <td>0</td>\n",
       "      <td>0.350</td>\n",
       "      <td>0.265</td>\n",
       "      <td>0.090</td>\n",
       "      <td>0.2255</td>\n",
       "      <td>0.0995</td>\n",
       "      <td>0.0485</td>\n",
       "      <td>0.070</td>\n",
       "    </tr>\n",
       "    <tr>\n",
       "      <th>2</th>\n",
       "      <td>9</td>\n",
       "      <td>1</td>\n",
       "      <td>0.530</td>\n",
       "      <td>0.420</td>\n",
       "      <td>0.135</td>\n",
       "      <td>0.6770</td>\n",
       "      <td>0.2565</td>\n",
       "      <td>0.1415</td>\n",
       "      <td>0.210</td>\n",
       "    </tr>\n",
       "    <tr>\n",
       "      <th>3</th>\n",
       "      <td>10</td>\n",
       "      <td>0</td>\n",
       "      <td>0.440</td>\n",
       "      <td>0.365</td>\n",
       "      <td>0.125</td>\n",
       "      <td>0.5160</td>\n",
       "      <td>0.2155</td>\n",
       "      <td>0.1140</td>\n",
       "      <td>0.155</td>\n",
       "    </tr>\n",
       "    <tr>\n",
       "      <th>4</th>\n",
       "      <td>7</td>\n",
       "      <td>2</td>\n",
       "      <td>0.330</td>\n",
       "      <td>0.255</td>\n",
       "      <td>0.080</td>\n",
       "      <td>0.2050</td>\n",
       "      <td>0.0895</td>\n",
       "      <td>0.0395</td>\n",
       "      <td>0.055</td>\n",
       "    </tr>\n",
       "  </tbody>\n",
       "</table>\n",
       "</div>"
      ],
      "text/plain": [
       "   Rings  Sex  Length  Diameter  Height  WholeWeight  ShuckedWeight  \\\n",
       "0     15    0   0.455     0.365   0.095       0.5140         0.2245   \n",
       "1      7    0   0.350     0.265   0.090       0.2255         0.0995   \n",
       "2      9    1   0.530     0.420   0.135       0.6770         0.2565   \n",
       "3     10    0   0.440     0.365   0.125       0.5160         0.2155   \n",
       "4      7    2   0.330     0.255   0.080       0.2050         0.0895   \n",
       "\n",
       "   VisceraWeight  ShellWeight  \n",
       "0         0.1010        0.150  \n",
       "1         0.0485        0.070  \n",
       "2         0.1415        0.210  \n",
       "3         0.1140        0.155  \n",
       "4         0.0395        0.055  "
      ]
     },
     "execution_count": 175,
     "metadata": {},
     "output_type": "execute_result"
    }
   ],
   "source": [
    "df.head()\n",
    "\n",
    "# Target - Rings"
   ]
  },
  {
   "cell_type": "markdown",
   "metadata": {},
   "source": [
    "### Visualizando a distribuição dos dados por classe"
   ]
  },
  {
   "cell_type": "code",
   "execution_count": 176,
   "metadata": {},
   "outputs": [
    {
     "data": {
      "text/plain": [
       "<Axes: xlabel='Rings', ylabel='count'>"
      ]
     },
     "execution_count": 176,
     "metadata": {},
     "output_type": "execute_result"
    },
    {
     "data": {
      "image/png": "[encoded data removed]",
      "text/plain": [
       "<Figure size 640x480 with 1 Axes>"
      ]
     },
     "metadata": {},
     "output_type": "display_data"
    }
   ],
   "source": [
    "#percentual \n",
    "#sns.barplot(x=\"Rings\", y=\"Rings\",  data=df,  estimator=lambda x: len(x) / len(df) * 100)\n",
    "\n",
    "# Se quiser visualizar a contagem \n",
    "sns.countplot(x=\"Rings\", data=df)\n",
    "# plt.show()"
   ]
  },
  {
   "cell_type": "markdown",
   "metadata": {},
   "source": [
    "### Separando o conjunto de dados"
   ]
  },
  {
   "cell_type": "code",
   "execution_count": 188,
   "metadata": {},
   "outputs": [
    {
     "name": "stdout",
     "output_type": "stream",
     "text": [
      "(3727, 9)\n"
     ]
    },
    {
     "data": {
      "text/plain": [
       "<Axes: xlabel='Rings', ylabel='Rings'>"
      ]
     },
     "execution_count": 188,
     "metadata": {},
     "output_type": "execute_result"
    },
    {
     "data": {
      "image/png": "[encoded data removed]",
      "text/plain": [
       "<Figure size 640x480 with 1 Axes>"
      ]
     },
     "metadata": {},
     "output_type": "display_data"
    }
   ],
   "source": [
    "dataset = df.loc[(df[\"Rings\"]>5) & (df[\"Rings\"]<16)]\n",
    "\n",
    "print(dataset.shape)\n",
    "\n",
    "#percentual \n",
    "sns.barplot(x=\"Rings\", y=\"Rings\",  data=dataset,  estimator=lambda x: len(x) / len(dataset) * 100)"
   ]
  },
  {
   "cell_type": "code",
   "execution_count": 189,
   "metadata": {},
   "outputs": [],
   "source": [
    "X = dataset.iloc[:,1:8]\n",
    "y = dataset.iloc[:,0]\n",
    "\n",
    "#Separando o conjunto de dados em treinamento e teste\n",
    "X_train, X_test, y_train, y_test = train_test_split(X, y, test_size=0.3, stratify=y)"
   ]
  },
  {
   "cell_type": "markdown",
   "metadata": {},
   "source": [
    "## Treinando o modelo"
   ]
  },
  {
   "cell_type": "code",
   "execution_count": 190,
   "metadata": {},
   "outputs": [
    {
     "name": "stdout",
     "output_type": "stream",
     "text": [
      "              precision    recall  f1-score   support\n",
      "\n",
      "           6       0.44      0.46      0.45        78\n",
      "           7       0.31      0.33      0.32       117\n",
      "           8       0.24      0.31      0.27       171\n",
      "           9       0.24      0.35      0.29       207\n",
      "          10       0.28      0.38      0.32       190\n",
      "          11       0.29      0.27      0.28       146\n",
      "          12       0.00      0.00      0.00        80\n",
      "          13       0.00      0.00      0.00        61\n",
      "          14       0.00      0.00      0.00        38\n",
      "          15       0.00      0.00      0.00        31\n",
      "\n",
      "    accuracy                           0.28      1119\n",
      "   macro avg       0.18      0.21      0.19      1119\n",
      "weighted avg       0.23      0.28      0.25      1119\n",
      "\n"
     ]
    }
   ],
   "source": [
    "model = LogisticRegression()\n",
    "\n",
    "#treinando o modelo\n",
    "model.fit(X_train, y_train)\n",
    "\n",
    "#predição\n",
    "y_pred = model.predict(X_test)\n",
    "\n",
    "#Resultados do classificador\n",
    "print(classification_report(y_test, y_pred))"
   ]
  },
  {
   "cell_type": "markdown",
   "metadata": {},
   "source": [
    "## SMOTE"
   ]
  },
  {
   "cell_type": "code",
   "execution_count": 70,
   "metadata": {},
   "outputs": [
    {
     "name": "stdout",
     "output_type": "stream",
     "text": [
      "Defaulting to user installation because normal site-packages is not writeable\n",
      "\u001b[33mWARNING: Ignoring invalid distribution -rotobuf (/home/joao/.local/lib/python3.10/site-packages)\u001b[0m\u001b[33m\n",
      "\u001b[0m\u001b[33mWARNING: Ignoring invalid distribution -rotobuf (/home/joao/.local/lib/python3.10/site-packages)\u001b[0m\u001b[33m\n",
      "\u001b[0mCollecting imblearn\n",
      "  Downloading imblearn-0.0-py2.py3-none-any.whl (1.9 kB)\n",
      "Collecting imbalanced-learn\n",
      "  Downloading imbalanced_learn-0.11.0-py3-none-any.whl (235 kB)\n",
      "\u001b[2K     \u001b[90m━━━━━━━━━━━━━━━━━━━━━━━━━━━━━━━━━━━━━━━\u001b[0m \u001b[32m235.6/235.6 KB\u001b[0m \u001b[31m1.1 MB/s\u001b[0m eta \u001b[36m0:00:00\u001b[0m00:01\u001b[0m00:01\u001b[0m\n",
      "\u001b[?25hRequirement already satisfied: scikit-learn>=1.0.2 in /home/joao/.local/lib/python3.10/site-packages (from imbalanced-learn->imblearn) (1.2.1)\n",
      "Requirement already satisfied: numpy>=1.17.3 in /home/joao/.local/lib/python3.10/site-packages (from imbalanced-learn->imblearn) (1.23.5)\n",
      "Requirement already satisfied: joblib>=1.1.1 in /home/joao/.local/lib/python3.10/site-packages (from imbalanced-learn->imblearn) (1.3.1)\n",
      "Requirement already satisfied: scipy>=1.5.0 in /home/joao/.local/lib/python3.10/site-packages (from imbalanced-learn->imblearn) (1.9.3)\n",
      "Requirement already satisfied: threadpoolctl>=2.0.0 in /home/joao/.local/lib/python3.10/site-packages (from imbalanced-learn->imblearn) (3.1.0)\n",
      "\u001b[33mWARNING: Ignoring invalid distribution -rotobuf (/home/joao/.local/lib/python3.10/site-packages)\u001b[0m\u001b[33m\n",
      "\u001b[0mInstalling collected packages: imbalanced-learn, imblearn\n",
      "\u001b[33mWARNING: Ignoring invalid distribution -rotobuf (/home/joao/.local/lib/python3.10/site-packages)\u001b[0m\u001b[33m\n",
      "\u001b[0m\u001b[33mWARNING: Ignoring invalid distribution -rotobuf (/home/joao/.local/lib/python3.10/site-packages)\u001b[0m\u001b[33m\n",
      "\u001b[0mSuccessfully installed imbalanced-learn-0.11.0 imblearn-0.0\n"
     ]
    }
   ],
   "source": [
    "#!pip install imblearn"
   ]
  },
  {
   "cell_type": "code",
   "execution_count": 148,
   "metadata": {},
   "outputs": [],
   "source": [
    "from imblearn.over_sampling import SMOTE"
   ]
  },
  {
   "cell_type": "code",
   "execution_count": 191,
   "metadata": {},
   "outputs": [
    {
     "name": "stdout",
     "output_type": "stream",
     "text": [
      "Resampled dataset shape \n",
      "\n",
      "11    482\n",
      "14    482\n",
      "9     482\n",
      "15    482\n",
      "10    482\n",
      "8     482\n",
      "13    482\n",
      "7     482\n",
      "6     482\n",
      "12    482\n",
      "Name: Rings, dtype: int64\n"
     ]
    }
   ],
   "source": [
    "smt = SMOTE(random_state=20)\n",
    "X_smt, y_smt = smt.fit_resample(X_train, y_train)\n",
    "\n",
    "\n",
    "print('Resampled dataset shape \\n')\n",
    "print(y_smt.value_counts())"
   ]
  },
  {
   "cell_type": "code",
   "execution_count": 192,
   "metadata": {},
   "outputs": [
    {
     "name": "stdout",
     "output_type": "stream",
     "text": [
      "              precision    recall  f1-score   support\n",
      "\n",
      "           6       0.39      0.64      0.49        78\n",
      "           7       0.21      0.30      0.24       117\n",
      "           8       0.24      0.29      0.26       171\n",
      "           9       0.28      0.20      0.23       207\n",
      "          10       0.33      0.13      0.19       190\n",
      "          11       0.26      0.34      0.30       146\n",
      "          12       0.03      0.01      0.02        80\n",
      "          13       0.10      0.02      0.03        61\n",
      "          14       0.09      0.11      0.10        38\n",
      "          15       0.10      0.39      0.16        31\n",
      "\n",
      "    accuracy                           0.24      1119\n",
      "   macro avg       0.20      0.24      0.20      1119\n",
      "weighted avg       0.24      0.24      0.22      1119\n",
      "\n"
     ]
    }
   ],
   "source": [
    "model = LogisticRegression(random_state=20)\n",
    "\n",
    "#treinando o modelo\n",
    "model.fit(X_smt, y_smt)\n",
    "\n",
    "#predição\n",
    "y_pred = model.predict(X_test)\n",
    "\n",
    "#Resultados do classificador\n",
    "print(classification_report(y_test, y_pred))"
   ]
  },
  {
   "cell_type": "code",
   "execution_count": 195,
   "metadata": {},
   "outputs": [
    {
     "name": "stdout",
     "output_type": "stream",
     "text": [
      "Melhor parametro: {'penalty': 'none'}\n"
     ]
    }
   ],
   "source": [
    "model = LogisticRegression(random_state=20)\n",
    "\n",
    "#penalty - depende do algoritmo usado para otimização (solver) padrão: ‘lbfgs’ - [‘l2’, None]\n",
    "# 'none': nenhuma penalidade é adicionada;\n",
    "# 'l2': adiciona um termo de penalidade L2 e é a escolha padrão;\n",
    "\n",
    "skf = StratifiedKFold(5)\n",
    "\n",
    "parameters = {'penalty': ['L2', 'none']}\n",
    "\n",
    "grid = GridSearchCV(estimator = model,             \n",
    "                    param_grid = parameters,     \n",
    "                    scoring = 'f1_macro',          # métrica de avaliação\n",
    "                    cv = skf)                        # cross-validation\n",
    "\n",
    "#treinando o modelo para seleção dos parâmetros\n",
    "grid.fit(X_smt, y_smt)\n",
    "\n",
    "y_pred = grid.predict(X_test)\n",
    "\n",
    "print(\"Melhor parametro:\", grid.best_params_) "
   ]
  },
  {
   "cell_type": "code",
   "execution_count": 196,
   "metadata": {},
   "outputs": [
    {
     "name": "stdout",
     "output_type": "stream",
     "text": [
      "              precision    recall  f1-score   support\n",
      "\n",
      "           6       0.41      0.63      0.49        78\n",
      "           7       0.27      0.28      0.28       117\n",
      "           8       0.29      0.37      0.32       171\n",
      "           9       0.30      0.26      0.28       207\n",
      "          10       0.29      0.13      0.18       190\n",
      "          11       0.27      0.27      0.27       146\n",
      "          12       0.12      0.09      0.10        80\n",
      "          13       0.09      0.05      0.06        61\n",
      "          14       0.05      0.08      0.06        38\n",
      "          15       0.13      0.39      0.19        31\n",
      "\n",
      "    accuracy                           0.26      1119\n",
      "   macro avg       0.22      0.25      0.22      1119\n",
      "weighted avg       0.26      0.26      0.25      1119\n",
      "\n"
     ]
    }
   ],
   "source": [
    "model = LogisticRegression(penalty=\"none\", random_state=20)\n",
    "\n",
    "#treinando o modelo\n",
    "model.fit(X_smt, y_smt)\n",
    "\n",
    "#predição\n",
    "y_pred = model.predict(X_test)\n",
    "\n",
    "#Resultados do classificador\n",
    "print(classification_report(y_test, y_pred))"
   ]
  }
 ],
 "metadata": {
  "kernelspec": {
   "display_name": "Python 3",
   "language": "python",
   "name": "python3"
  },
  "language_info": {
   "codemirror_mode": {
    "name": "ipython",
    "version": 3
   },
   "file_extension": ".py",
   "mimetype": "text/x-python",
   "name": "python",
   "nbconvert_exporter": "python",
   "pygments_lexer": "ipython3",
   "version": "3.10.12"
  },
  "orig_nbformat": 4
 },
 "nbformat": 4,
 "nbformat_minor": 2
}
