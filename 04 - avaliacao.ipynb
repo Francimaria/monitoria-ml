{
  "cells": [
    {
      "cell_type": "markdown",
      "metadata": {},
      "source": [
        "# Avaliando algoritmos de aprendizagem\n",
        "\n",
        "***"
      ]
    },
    {
      "cell_type": "markdown",
      "metadata": {},
      "source": [
        "## Índice"
      ]
    },
    {
      "cell_type": "markdown",
      "metadata": {},
      "source": [
        "1. [Importando bibliotecas](#importando-bibliotecas)\n",
        "2. [Métricas](#importando-bibliotecas)\n",
        "2. [Validação cruzada](#validação-cruzada)"
      ]
    },
    {
      "cell_type": "markdown",
      "metadata": {},
      "source": [
        "## Importando bibliotecas"
      ]
    },
    {
      "cell_type": "code",
      "execution_count": 1,
      "metadata": {
        "id": "ylPUjb5meV5G"
      },
      "outputs": [],
      "source": [
        "#IMPORTANDO BIBLIOTECAS\n",
        "import numpy as np\n",
        "import pandas as pd\n",
        "\n",
        "from sklearn.datasets import load_wine\n",
        "from sklearn.model_selection import train_test_split, KFold, LeaveOneOut, StratifiedKFold, GridSearchCV\n",
        "\n",
        "from sklearn.tree import DecisionTreeClassifier\n",
        "\n",
        "from sklearn.metrics import (confusion_matrix, \n",
        "                             ConfusionMatrixDisplay, \n",
        "                             classification_report, \n",
        "                             RocCurveDisplay,\n",
        "                             roc_curve,\n",
        "                             auc, accuracy_score)\n",
        "\n",
        "import warnings\n",
        "warnings.filterwarnings('ignore')"
      ]
    },
    {
      "cell_type": "code",
      "execution_count": 2,
      "metadata": {
        "id": "_wSl-4hvfApl"
      },
      "outputs": [],
      "source": [
        "# Breast Cancer Wisconsin (Diagnostic)\n",
        "# https://archive.ics.uci.edu/\n",
        "dataset = pd.read_csv('https://raw.githubusercontent.com/Francimaria/monitoria-ml/main/breast_cancer_wisconsin_diagnostic.csv')"
      ]
    },
    {
      "cell_type": "code",
      "execution_count": 3,
      "metadata": {},
      "outputs": [
        {
          "name": "stdout",
          "output_type": "stream",
          "text": [
            "Tamanho do dataset: (569, 31)\n",
            "\n"
          ]
        },
        {
          "data": {
            "text/html": [
              "<div>\n",
              "<style scoped>\n",
              "    .dataframe tbody tr th:only-of-type {\n",
              "        vertical-align: middle;\n",
              "    }\n",
              "\n",
              "    .dataframe tbody tr th {\n",
              "        vertical-align: top;\n",
              "    }\n",
              "\n",
              "    .dataframe thead th {\n",
              "        text-align: right;\n",
              "    }\n",
              "</style>\n",
              "<table border=\"1\" class=\"dataframe\">\n",
              "  <thead>\n",
              "    <tr style=\"text-align: right;\">\n",
              "      <th></th>\n",
              "      <th>diagnosis</th>\n",
              "      <th>radius_Mean</th>\n",
              "      <th>texture_Mean</th>\n",
              "      <th>periMeter_Mean</th>\n",
              "      <th>area_Mean</th>\n",
              "      <th>sMoothness_Mean</th>\n",
              "      <th>coMpactness_Mean</th>\n",
              "      <th>concavity_Mean</th>\n",
              "      <th>concave points_Mean</th>\n",
              "      <th>syMMetry_Mean</th>\n",
              "      <th>...</th>\n",
              "      <th>radius_worst</th>\n",
              "      <th>texture_worst</th>\n",
              "      <th>periMeter_worst</th>\n",
              "      <th>area_worst</th>\n",
              "      <th>sMoothness_worst</th>\n",
              "      <th>coMpactness_worst</th>\n",
              "      <th>concavity_worst</th>\n",
              "      <th>concave points_worst</th>\n",
              "      <th>syMMetry_worst</th>\n",
              "      <th>fractal_diMension_worst</th>\n",
              "    </tr>\n",
              "  </thead>\n",
              "  <tbody>\n",
              "    <tr>\n",
              "      <th>0</th>\n",
              "      <td>M</td>\n",
              "      <td>17.99</td>\n",
              "      <td>10.38</td>\n",
              "      <td>122.80</td>\n",
              "      <td>1001.0</td>\n",
              "      <td>0.11840</td>\n",
              "      <td>0.27760</td>\n",
              "      <td>0.3001</td>\n",
              "      <td>0.14710</td>\n",
              "      <td>0.2419</td>\n",
              "      <td>...</td>\n",
              "      <td>25.38</td>\n",
              "      <td>17.33</td>\n",
              "      <td>184.60</td>\n",
              "      <td>2019.0</td>\n",
              "      <td>0.1622</td>\n",
              "      <td>0.6656</td>\n",
              "      <td>0.7119</td>\n",
              "      <td>0.2654</td>\n",
              "      <td>0.4601</td>\n",
              "      <td>0.11890</td>\n",
              "    </tr>\n",
              "    <tr>\n",
              "      <th>1</th>\n",
              "      <td>M</td>\n",
              "      <td>20.57</td>\n",
              "      <td>17.77</td>\n",
              "      <td>132.90</td>\n",
              "      <td>1326.0</td>\n",
              "      <td>0.08474</td>\n",
              "      <td>0.07864</td>\n",
              "      <td>0.0869</td>\n",
              "      <td>0.07017</td>\n",
              "      <td>0.1812</td>\n",
              "      <td>...</td>\n",
              "      <td>24.99</td>\n",
              "      <td>23.41</td>\n",
              "      <td>158.80</td>\n",
              "      <td>1956.0</td>\n",
              "      <td>0.1238</td>\n",
              "      <td>0.1866</td>\n",
              "      <td>0.2416</td>\n",
              "      <td>0.1860</td>\n",
              "      <td>0.2750</td>\n",
              "      <td>0.08902</td>\n",
              "    </tr>\n",
              "    <tr>\n",
              "      <th>2</th>\n",
              "      <td>M</td>\n",
              "      <td>19.69</td>\n",
              "      <td>21.25</td>\n",
              "      <td>130.00</td>\n",
              "      <td>1203.0</td>\n",
              "      <td>0.10960</td>\n",
              "      <td>0.15990</td>\n",
              "      <td>0.1974</td>\n",
              "      <td>0.12790</td>\n",
              "      <td>0.2069</td>\n",
              "      <td>...</td>\n",
              "      <td>23.57</td>\n",
              "      <td>25.53</td>\n",
              "      <td>152.50</td>\n",
              "      <td>1709.0</td>\n",
              "      <td>0.1444</td>\n",
              "      <td>0.4245</td>\n",
              "      <td>0.4504</td>\n",
              "      <td>0.2430</td>\n",
              "      <td>0.3613</td>\n",
              "      <td>0.08758</td>\n",
              "    </tr>\n",
              "    <tr>\n",
              "      <th>3</th>\n",
              "      <td>M</td>\n",
              "      <td>11.42</td>\n",
              "      <td>20.38</td>\n",
              "      <td>77.58</td>\n",
              "      <td>386.1</td>\n",
              "      <td>0.14250</td>\n",
              "      <td>0.28390</td>\n",
              "      <td>0.2414</td>\n",
              "      <td>0.10520</td>\n",
              "      <td>0.2597</td>\n",
              "      <td>...</td>\n",
              "      <td>14.91</td>\n",
              "      <td>26.50</td>\n",
              "      <td>98.87</td>\n",
              "      <td>567.7</td>\n",
              "      <td>0.2098</td>\n",
              "      <td>0.8663</td>\n",
              "      <td>0.6869</td>\n",
              "      <td>0.2575</td>\n",
              "      <td>0.6638</td>\n",
              "      <td>0.17300</td>\n",
              "    </tr>\n",
              "    <tr>\n",
              "      <th>4</th>\n",
              "      <td>M</td>\n",
              "      <td>20.29</td>\n",
              "      <td>14.34</td>\n",
              "      <td>135.10</td>\n",
              "      <td>1297.0</td>\n",
              "      <td>0.10030</td>\n",
              "      <td>0.13280</td>\n",
              "      <td>0.1980</td>\n",
              "      <td>0.10430</td>\n",
              "      <td>0.1809</td>\n",
              "      <td>...</td>\n",
              "      <td>22.54</td>\n",
              "      <td>16.67</td>\n",
              "      <td>152.20</td>\n",
              "      <td>1575.0</td>\n",
              "      <td>0.1374</td>\n",
              "      <td>0.2050</td>\n",
              "      <td>0.4000</td>\n",
              "      <td>0.1625</td>\n",
              "      <td>0.2364</td>\n",
              "      <td>0.07678</td>\n",
              "    </tr>\n",
              "  </tbody>\n",
              "</table>\n",
              "<p>5 rows × 31 columns</p>\n",
              "</div>"
            ],
            "text/plain": [
              "  diagnosis  radius_Mean  texture_Mean  periMeter_Mean  area_Mean  \\\n",
              "0         M        17.99         10.38          122.80     1001.0   \n",
              "1         M        20.57         17.77          132.90     1326.0   \n",
              "2         M        19.69         21.25          130.00     1203.0   \n",
              "3         M        11.42         20.38           77.58      386.1   \n",
              "4         M        20.29         14.34          135.10     1297.0   \n",
              "\n",
              "   sMoothness_Mean  coMpactness_Mean  concavity_Mean  concave points_Mean  \\\n",
              "0          0.11840           0.27760          0.3001              0.14710   \n",
              "1          0.08474           0.07864          0.0869              0.07017   \n",
              "2          0.10960           0.15990          0.1974              0.12790   \n",
              "3          0.14250           0.28390          0.2414              0.10520   \n",
              "4          0.10030           0.13280          0.1980              0.10430   \n",
              "\n",
              "   syMMetry_Mean  ...  radius_worst  texture_worst  periMeter_worst  \\\n",
              "0         0.2419  ...         25.38          17.33           184.60   \n",
              "1         0.1812  ...         24.99          23.41           158.80   \n",
              "2         0.2069  ...         23.57          25.53           152.50   \n",
              "3         0.2597  ...         14.91          26.50            98.87   \n",
              "4         0.1809  ...         22.54          16.67           152.20   \n",
              "\n",
              "   area_worst  sMoothness_worst  coMpactness_worst  concavity_worst  \\\n",
              "0      2019.0            0.1622             0.6656           0.7119   \n",
              "1      1956.0            0.1238             0.1866           0.2416   \n",
              "2      1709.0            0.1444             0.4245           0.4504   \n",
              "3       567.7            0.2098             0.8663           0.6869   \n",
              "4      1575.0            0.1374             0.2050           0.4000   \n",
              "\n",
              "   concave points_worst  syMMetry_worst  fractal_diMension_worst  \n",
              "0                0.2654          0.4601                  0.11890  \n",
              "1                0.1860          0.2750                  0.08902  \n",
              "2                0.2430          0.3613                  0.08758  \n",
              "3                0.2575          0.6638                  0.17300  \n",
              "4                0.1625          0.2364                  0.07678  \n",
              "\n",
              "[5 rows x 31 columns]"
            ]
          },
          "execution_count": 3,
          "metadata": {},
          "output_type": "execute_result"
        }
      ],
      "source": [
        "print(f\"Tamanho do dataset: {dataset.shape}\\n\")\n",
        "dataset.head()"
      ]
    },
    {
      "cell_type": "code",
      "execution_count": 4,
      "metadata": {
        "id": "6NMTEmzz_xqP"
      },
      "outputs": [],
      "source": [
        "#Mapeando os valores da classe para inteiro (para fins de visualização)\n",
        "dataset[\"diagnosis\"] = pd.factorize(dataset[\"diagnosis\"])[0]\n",
        "# M = 0 \n",
        "# B = 1\n",
        "\n",
        "\n",
        "#Vamos usar todas as features\n",
        "X = dataset.iloc[:,1:-1]\n",
        "y = dataset.iloc[:,0]"
      ]
    },
    {
      "cell_type": "markdown",
      "metadata": {},
      "source": [
        "## Métricas\n",
        "\n",
        "Existem várias formas de avaliar um modelo de aprendizagem, dependendo da tarefa que o modelo irá realizar.\n",
        "\n",
        "Classificação:\n",
        "- [ROC](https://scikit-learn.org/stable/auto_examples/model_selection/plot_roc.html): Mede o trade-off entre a taxa de falsos positivos e a taxa de verdadeiros positivos. Quanto maior a área abaixo da curva, melhor o classificador.\n",
        "- [Acurácia](https://scikit-learn.org/stable/modules/model_evaluation.html#accuracy-score): Calcula a razão das predições corretas.\n",
        "- [Precisão](https://scikit-learn.org/stable/modules/model_evaluation.html#precision-recall-f-measure-metrics): Mede a capacidade do classificador de não classificar uma instância positiva como negativa.\n",
        "- [Revocação](https://scikit-learn.org/stable/modules/model_evaluation.html#precision-recall-f-measure-metrics) (recall): Mede a capacidade do classificador de encontrar todas as instâncias positivas.\n",
        "- [Score F1](https://scikit-learn.org/stable/modules/model_evaluation.html#precision-recall-f-measure-metrics): É a média harmônica entre precisão e revocação. Caso você não tenha um objetivo concreto que dê prioridade a precisão ou revocação, F1 é uma boa forma de avaliação.\n",
        "\n",
        "Regressão:\n",
        "- [MSE](https://scikit-learn.org/stable/modules/model_evaluation.html#mean-squared-error): Mede o erro quadrático médio entre as previsões do classificador e o dataset."
      ]
    },
    {
      "cell_type": "code",
      "execution_count": 5,
      "metadata": {
        "colab": {
          "base_uri": "https://localhost:8080/"
        },
        "id": "pOsD5kg-CHLB",
        "outputId": "e62b7998-75a1-4c53-8fc2-852eb27b0ea9"
      },
      "outputs": [
        {
          "name": "stdout",
          "output_type": "stream",
          "text": [
            "              precision    recall  f1-score   support\n",
            "\n",
            "           0       0.87      0.97      0.92        63\n",
            "           1       0.98      0.92      0.95       108\n",
            "\n",
            "    accuracy                           0.94       171\n",
            "   macro avg       0.93      0.94      0.93       171\n",
            "weighted avg       0.94      0.94      0.94       171\n",
            "\n"
          ]
        }
      ],
      "source": [
        "# dividir classificador em treino e teste\n",
        "# Random_state: Usar um valor inteiro produzirá os mesmos resultados em diferentes chamadas.\n",
        "X_train, X_test, y_train, y_test = train_test_split(X, y, test_size=0.3, random_state=42)\n",
        "\n",
        "model = DecisionTreeClassifier(random_state=42)\n",
        "#treinando o modelo\n",
        "model.fit(X_train, y_train)\n",
        "\n",
        "#predição\n",
        "y_pred = model.predict(X_test)\n",
        "\n",
        "print(classification_report(y_test, y_pred))"
      ]
    },
    {
      "cell_type": "markdown",
      "metadata": {},
      "source": [
        "### Matriz de confusão"
      ]
    },
    {
      "cell_type": "code",
      "execution_count": 6,
      "metadata": {
        "colab": {
          "base_uri": "https://localhost:8080/",
          "height": 296
        },
        "id": "qHVGUC2oCQVT",
        "outputId": "d2e54900-8e32-4244-8f6a-3bb3f9e18133"
      },
      "outputs": [
        {
          "name": "stdout",
          "output_type": "stream",
          "text": [
            "[[61  2]\n",
            " [ 9 99]]\n",
            "\n",
            " Labels:[0 1] \n",
            "\n"
          ]
        },
        {
          "data": {
            "text/plain": [
              "<sklearn.metrics._plot.confusion_matrix.ConfusionMatrixDisplay at 0x7fa980b83d30>"
            ]
          },
          "execution_count": 6,
          "metadata": {},
          "output_type": "execute_result"
        },
        {
          "data": {
            "image/png": "[encoded data removed]",
            "text/plain": [
              "<Figure size 640x480 with 2 Axes>"
            ]
          },
          "metadata": {},
          "output_type": "display_data"
        }
      ],
      "source": [
        "# a função confusion matrix retorna uma matriz com a contagem de como cada \n",
        "# uma das classes está sendo classificada corretamente ou erroneamente\n",
        "cm = confusion_matrix(y_test, y_pred, labels=model.classes_)\n",
        "print(cm)\n",
        "\n",
        "print(f\"\\n Labels:{model.classes_} \\n\")\n",
        "\n",
        "#display_labels - define como será a ordem das classes na matriz\n",
        "disp_cm = ConfusionMatrixDisplay(confusion_matrix=cm,display_labels=model.classes_)\n",
        "disp_cm.plot()"
      ]
    },
    {
      "cell_type": "markdown",
      "metadata": {},
      "source": [
        "### ROC Curve"
      ]
    },
    {
      "cell_type": "code",
      "execution_count": 7,
      "metadata": {
        "colab": {
          "base_uri": "https://localhost:8080/",
          "height": 296
        },
        "id": "OgxnPWoxCSLm",
        "outputId": "f62ec4c8-9d4e-40d4-82d6-4a48b16fea85"
      },
      "outputs": [
        {
          "data": {
            "text/plain": [
              "<sklearn.metrics._plot.roc_curve.RocCurveDisplay at 0x7fa941637b50>"
            ]
          },
          "execution_count": 7,
          "metadata": {},
          "output_type": "execute_result"
        },
        {
          "data": {
            "image/png": "[encoded data removed]",
            "text/plain": [
              "<Figure size 640x480 with 1 Axes>"
            ]
          },
          "metadata": {},
          "output_type": "display_data"
        }
      ],
      "source": [
        "fpr, tpr, thresholds = roc_curve(y_test, y_pred)\n",
        "#Área sob a curva ROC (AUC)\n",
        "roc_auc = auc(fpr, tpr)\n",
        "disp_roc_curve = RocCurveDisplay(fpr=fpr, tpr=tpr, roc_auc=roc_auc,\n",
        "                                 estimator_name=model.__class__.__name__)\n",
        "disp_roc_curve.plot()"
      ]
    },
    {
      "cell_type": "markdown",
      "metadata": {},
      "source": [
        "## Validação cruzada"
      ]
    },
    {
      "cell_type": "markdown",
      "metadata": {
        "id": "Em3S9KvfdJU6"
      },
      "source": [
        "### HOLD-OUT\n",
        "\n",
        "Uma pequena fração do dataset é separada para teste e outra para treino. A fração de treino pode ser dividida subsequentemente em quaisquer outros subconjuntos, o importante é garantir que o dataset de teste não é utilizado durante treino, otimização ou concepção do modelo."
      ]
    },
    {
      "cell_type": "code",
      "execution_count": 8,
      "metadata": {},
      "outputs": [],
      "source": [
        "def test_model(X_train, X_test, y_train, y_test, model_class=DecisionTreeClassifier):\n",
        "    model = model_class(random_state=199)\n",
        "    model.fit(X_train, y_train)\n",
        "\n",
        "    #predição\n",
        "    y_pred = model.predict(X_test)\n",
        "        \n",
        "    return accuracy_score(y_test,y_pred)"
      ]
    },
    {
      "cell_type": "markdown",
      "metadata": {},
      "source": [
        "Um simples hold-out depende bastante da seleção inicial."
      ]
    },
    {
      "cell_type": "code",
      "execution_count": 9,
      "metadata": {
        "colab": {
          "base_uri": "https://localhost:8080/"
        },
        "id": "fEw-tjqICmAc",
        "outputId": "e3cc1724-7738-4093-c1fb-4a79e2f622b1"
      },
      "outputs": [
        {
          "name": "stdout",
          "output_type": "stream",
          "text": [
            "\n",
            " Random state: 199\n",
            " Acurácia: 0.916\n",
            "\n",
            " Random state: 200\n",
            " Acurácia: 0.923\n",
            "\n",
            " Random state: 201\n",
            " Acurácia: 0.951\n",
            "\n",
            " Aleatório\n",
            " Acurácia: 0.916\n"
          ]
        }
      ],
      "source": [
        "#random_state deve estar entre 0 e 2**32 - 1\n",
        "random_state = 199\n",
        "print(\"\\n Random state: %d\" % random_state)\n",
        "X_train, X_test, y_train, y_test = train_test_split(X, y, random_state=random_state)\n",
        "print(f\" Acurácia: %.3f\" % (test_model(X_train, X_test, y_train, y_test)))\n",
        "\n",
        "random_state = 200\n",
        "print(\"\\n Random state: %d\" % random_state)\n",
        "X_train, X_test, y_train, y_test = train_test_split(X, y, random_state=random_state)\n",
        "print(f\" Acurácia: %.3f\" % (test_model(X_train, X_test, y_train, y_test)))\n",
        "\n",
        "random_state = 201\n",
        "print(\"\\n Random state: %d\" % random_state)\n",
        "X_train, X_test, y_train, y_test = train_test_split(X, y, random_state=random_state)\n",
        "print(f\" Acurácia: %.3f\" % (test_model(X_train, X_test, y_train, y_test)))\n",
        "\n",
        "#Aleatório\n",
        "print(\"\\n Aleatório\")\n",
        "X_train, X_test, y_train, y_test = train_test_split(X, y)\n",
        "print(f\" Acurácia: %.3f\" % (test_model(X_train, X_test, y_train, y_test)))"
      ]
    },
    {
      "cell_type": "markdown",
      "metadata": {},
      "source": [
        "Podemos adicionar repetição e realizar vários hold-outs para avaliar várias vezes a performance de um algoritmo."
      ]
    },
    {
      "cell_type": "code",
      "execution_count": 10,
      "metadata": {
        "colab": {
          "base_uri": "https://localhost:8080/"
        },
        "id": "I3TYQnkQCtNY",
        "outputId": "b81ba792-70fa-4573-a36c-7c3f22ce0aad"
      },
      "outputs": [
        {
          "name": "stdout",
          "output_type": "stream",
          "text": [
            "Min: 0.874 Max: 0.965\n",
            "Hold-out: 0.923 +- (0.020)\n"
          ]
        }
      ],
      "source": [
        "def hold_out():\n",
        "  accuracies_list = []\n",
        "  for i in range(0, 30):\n",
        "      \n",
        "      X_train, X_test, y_train, y_test = train_test_split(X, y, random_state=199+i) \n",
        "      accuracies_list.append(test_model(X_train, X_test, y_train, y_test))\n",
        "\n",
        "  accuracies = np.array(accuracies_list)\n",
        "  print(\"Min: %.3f Max: %.3f\" %(accuracies.min(), accuracies.max()))\n",
        "  print(\"Hold-out: %.3f +- (%.3f)\" %(accuracies.mean(), accuracies.std()))\n",
        "\n",
        "hold_out()"
      ]
    },
    {
      "cell_type": "markdown",
      "metadata": {},
      "source": [
        "Outro parâmetro importante na função _train_test_split_ é o _stratify_. Ele controla se a proporção das classes no dataset de treino e teste deve ser mantida e tenta selecionar as instâncias que estão faltando para se aproximar da distribuição original."
      ]
    },
    {
      "cell_type": "code",
      "execution_count": 11,
      "metadata": {},
      "outputs": [
        {
          "name": "stdout",
          "output_type": "stream",
          "text": [
            "Proporções por classe no dataset em geral:\n",
            "Classe 0: 37.26%\n",
            "Classe 1: 62.74%\n",
            "\n",
            "\n",
            "Proporções por classe no dataset de treino sem estratificação:\n",
            "Classe 0: 34.92%\n",
            "Classe 1: 65.08%\n",
            "\n",
            "\n",
            "Proporções por classe no dataset de treino com estratificação:\n",
            "Classe 0: 37.19%\n",
            "Classe 1: 62.81%\n"
          ]
        }
      ],
      "source": [
        "def print_distribution(arr, print_nl=True):\n",
        "    arr = np.unique(arr, return_counts=True)[1] / arr.count()\n",
        "    for i in range(arr.shape[0]):\n",
        "        print(\"Classe %d: %.2f%%\" %(i, arr[i]*100))\n",
        "\n",
        "    if print_nl:\n",
        "        print(\"\\n\")\n",
        "\n",
        "_, _, y_train, _ = train_test_split(X, y, test_size=0.3, random_state=199)\n",
        "_, _, y_train_strat, _ = train_test_split(X, y, test_size=0.3, random_state=199, stratify=y)\n",
        "\n",
        "print(\"Proporções por classe no dataset em geral:\")\n",
        "print_distribution(y)\n",
        "\n",
        "print(\"Proporções por classe no dataset de treino sem estratificação:\")\n",
        "print_distribution(y_train)\n",
        "\n",
        "print(\"Proporções por classe no dataset de treino com estratificação:\")\n",
        "print_distribution(y_train_strat, print_nl=False)"
      ]
    },
    {
      "cell_type": "markdown",
      "metadata": {
        "id": "XVk2rbKLF5ZF"
      },
      "source": [
        "### LEAVE-ONE-OUT\n",
        "\n",
        "Fornece índices de treinamento/teste para dividir os dados em conjuntos de treinamento/teste.\n",
        "\n",
        "Cada amostra é usada uma vez como um conjunto de teste (singleton) enquanto as amostras restantes formam o conjunto de treinamento. [Link](https://scikit-learn.org/stable/modules/generated/sklearn.model_selection.LeaveOneOut.html)"
      ]
    },
    {
      "cell_type": "code",
      "execution_count": 12,
      "metadata": {
        "colab": {
          "base_uri": "https://localhost:8080/"
        },
        "id": "fdbAoffG4N98",
        "outputId": "8ef5fc87-dbab-474e-881a-6b4523b8ed44"
      },
      "outputs": [
        {
          "name": "stdout",
          "output_type": "stream",
          "text": [
            "Leave-One-Out: 0.923\n"
          ]
        }
      ],
      "source": [
        "def loo(loo):\n",
        "    y_true, y_pred = list(), list()\n",
        "    for train_index, test_index in loo.split(X):\n",
        "          X_train, X_test = X.iloc[train_index], X.iloc[test_index]\n",
        "          y_train, y_test = y.iloc[train_index], y.iloc[test_index]\n",
        "          model = DecisionTreeClassifier(random_state=199)\n",
        "          model.fit(X_train, y_train)\n",
        "          pred = model.predict(X_test)\n",
        "          y_true.append(y_test)\n",
        "          y_pred.append(pred[0])\n",
        "          \n",
        "    print(\"Leave-One-Out: %.3f\" %(accuracy_score(y_true, y_pred)))\n",
        "loo(LeaveOneOut())"
      ]
    },
    {
      "cell_type": "markdown",
      "metadata": {
        "id": "cy44n7kecrWw"
      },
      "source": [
        "### K-FOLD\n",
        "\n",
        "Fornece índices de treinamento/teste para dividir dados em conjuntos de treinamento/teste. \n",
        "\n",
        "Divide o conjunto de dados em k folds consecutivos (sem embaralhar \"***shuffle***\" por padrão)"
      ]
    },
    {
      "cell_type": "code",
      "execution_count": 13,
      "metadata": {
        "colab": {
          "base_uri": "https://localhost:8080/"
        },
        "id": "Hdz5dVs6Cyb0",
        "outputId": "f2f2902c-6cb5-4e71-db63-2d27736e543e"
      },
      "outputs": [
        {
          "name": "stdout",
          "output_type": "stream",
          "text": [
            "Fold 0: 0.860\n",
            "Fold 1: 0.930\n",
            "Fold 2: 0.956\n",
            "Fold 3: 0.939\n",
            "Fold 4: 0.894\n",
            "\n",
            "Acurácia média (desvio): 0.916 +- (0.035)\n"
          ]
        }
      ],
      "source": [
        "def evaluate_model_with_kfold(kf):\n",
        "    accuracies_list = []\n",
        "    fold = 0\n",
        "    for train, test in kf.split(X, y):\n",
        "        \n",
        "        X_train, X_test = X.iloc[train], X.iloc[test]\n",
        "        y_train, y_test = y.iloc[train], y.iloc[test]\n",
        "\n",
        "        model = DecisionTreeClassifier(random_state=199)\n",
        "        model.fit(X_train, y_train)\n",
        "        y_pred = model.predict(X_test)\n",
        "        \n",
        "        print(\"Fold %d: %.3f\" %(fold, accuracy_score(y_test, y_pred)))\n",
        "        \n",
        "        accuracies_list.append(accuracy_score(y_test, y_pred))\n",
        "        fold += 1\n",
        "\n",
        "    accuracies = np.array(accuracies_list)\n",
        "    print(\"\\nAcurácia média (desvio): %.3f +- (%.3f)\" %(accuracies.mean(), accuracies.std()))\n",
        "\n",
        "# n_splits deve ser pelo menos 2\n",
        "evaluate_model_with_kfold(KFold(n_splits=5))"
      ]
    },
    {
      "cell_type": "markdown",
      "metadata": {},
      "source": [
        "Observe que o _k-Fold_ cria as partições sequencialmente, o que pode interferir na distribuição das classes devido a alguma ordenação no dataset. Use o parâmetro _shuffle_ para controlar a permutação do dataset antes de realizar o particionamento. E como no _hold-out_, a subdivisão aleatórias com _k-Fold_ e _shuffle_ também interfere na distribuição das classes."
      ]
    },
    {
      "cell_type": "code",
      "execution_count": 14,
      "metadata": {},
      "outputs": [
        {
          "name": "stdout",
          "output_type": "stream",
          "text": [
            "Proporções por classe no dataset em geral:\n",
            "Classe 0: 37.26%\n",
            "Classe 1: 62.74%\n",
            "\n",
            "\n",
            "Fold 0\n",
            "Classe 0: 30.34%\n",
            "Classe 1: 69.66%\n",
            "\n",
            "\n",
            "Fold 1\n",
            "Classe 0: 36.94%\n",
            "Classe 1: 63.06%\n",
            "\n",
            "\n",
            "Fold 2\n",
            "Classe 0: 44.47%\n",
            "Classe 1: 55.53%\n"
          ]
        }
      ],
      "source": [
        "print(\"Proporções por classe no dataset em geral:\")\n",
        "print_distribution(y)\n",
        "\n",
        "kf = KFold(n_splits=3)\n",
        "start_print = False\n",
        "fold = 0\n",
        "for train, test in kf.split(X, y):\n",
        "    print(\"Fold %d\" %(fold))\n",
        "    print_distribution(y[train], print_nl=(fold != 2))\n",
        "    fold += 1"
      ]
    },
    {
      "cell_type": "markdown",
      "metadata": {},
      "source": [
        "Para resolver isso, _StratifiedKFold_ realiza a estratificação das classes. Outras formas de seleção estão disponíveis [aqui](https://scikit-learn.org/stable/modules/classes.html#module-sklearn.model_selection)."
      ]
    },
    {
      "cell_type": "code",
      "execution_count": 15,
      "metadata": {},
      "outputs": [
        {
          "name": "stdout",
          "output_type": "stream",
          "text": [
            "Proporções por classe no dataset em geral:\n",
            "Classe 0: 37.26%\n",
            "Classe 1: 62.74%\n",
            "\n",
            "\n",
            "Fold 0\n",
            "Classe 0: 37.20%\n",
            "Classe 1: 62.80%\n",
            "\n",
            "\n",
            "Fold 1\n",
            "Classe 0: 37.20%\n",
            "Classe 1: 62.80%\n",
            "\n",
            "\n",
            "Fold 2\n",
            "Classe 0: 37.37%\n",
            "Classe 1: 62.63%\n"
          ]
        }
      ],
      "source": [
        "print(\"Proporções por classe no dataset em geral:\")\n",
        "print_distribution(y)\n",
        "\n",
        "kf = StratifiedKFold(n_splits=3, shuffle=True, random_state=199)\n",
        "fold = 0\n",
        "for train, test in kf.split(X, y):\n",
        "    print(\"Fold %d\" %(fold))\n",
        "    print_distribution(y[train], print_nl=(fold != 2))\n",
        "    fold += 1"
      ]
    },
    {
      "cell_type": "code",
      "execution_count": 16,
      "metadata": {},
      "outputs": [
        {
          "name": "stdout",
          "output_type": "stream",
          "text": [
            "Fold 0: 0.939\n",
            "Fold 1: 0.965\n",
            "Fold 2: 0.912\n",
            "Fold 3: 0.912\n",
            "Fold 4: 0.929\n",
            "\n",
            "Acurácia média (desvio): 0.931 +- (0.020)\n"
          ]
        }
      ],
      "source": [
        "evaluate_model_with_kfold(StratifiedKFold(n_splits=5, shuffle=True, random_state=199))"
      ]
    }
  ],
  "metadata": {
    "colab": {
      "collapsed_sections": [],
      "name": "06-Avaliação_Validação.ipynb",
      "provenance": []
    },
    "kernelspec": {
      "display_name": "Python 3",
      "name": "python3"
    },
    "language_info": {
      "codemirror_mode": {
        "name": "ipython",
        "version": 3
      },
      "file_extension": ".py",
      "mimetype": "text/x-python",
      "name": "python",
      "nbconvert_exporter": "python",
      "pygments_lexer": "ipython3",
      "version": "3.10.12"
    }
  },
  "nbformat": 4,
  "nbformat_minor": 0
}
