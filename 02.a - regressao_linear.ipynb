{
 "cells": [
  {
   "attachments": {},
   "cell_type": "markdown",
   "metadata": {},
   "source": [
    "# Regressão Linear \n",
    "***"
   ]
  },
  {
   "attachments": {},
   "cell_type": "markdown",
   "metadata": {},
   "source": [
    "## Índice"
   ]
  },
  {
   "attachments": {},
   "cell_type": "markdown",
   "metadata": {},
   "source": [
    "1. [Importando bibliotecas](#importando-bibliotecas)\n",
    "2. [Análise do dataset](#análise-do-dataset)\n",
    "3. [Treinamento do modelo](#treinamento-do-modelo)\n",
    "4. [Região de decisão](#região-de-decisão)\n",
    "5. [Regressão Linear](#regressão-linear)\n",
    "6. [Referências](#referências)"
   ]
  },
  {
   "attachments": {},
   "cell_type": "markdown",
   "metadata": {},
   "source": [
    "## Importanto Bibliotecas"
   ]
  },
  {
   "cell_type": "code",
   "execution_count": 2,
   "metadata": {},
   "outputs": [],
   "source": [
    "# Bibliotecas de manipualção e visualização de dados\n",
    "import numpy as np\n",
    "import pandas as pd\n",
    "import matplotlib.pyplot as plt\n",
    "from mlxtend.plotting import plot_decision_regions\n",
    "\n",
    "# Classes dos modelo\n",
    "from sklearn.linear_model import LinearRegression\n",
    "\n",
    "# Funções de avaliação dos modelos\n",
    "from sklearn.metrics import classification_report\n",
    "from sklearn.model_selection import train_test_split"
   ]
  },
  {
   "attachments": {},
   "cell_type": "markdown",
   "metadata": {},
   "source": [
    "## Análise do dataset\n",
    "\n",
    "**House**: A tarefa é prever o preço médio da casa na região com base na composição demográfica e no estado do mercado imobiliário na região. Descrição [link](https://sci2s.ugr.es/keel/dataset.php?cod=95#sub1)."
   ]
  },
  {
   "cell_type": "code",
   "execution_count": 3,
   "metadata": {},
   "outputs": [],
   "source": [
    "dataset = pd.read_csv(\"https://raw.githubusercontent.com/Francimaria/monitoria-ml/main/house.csv\")"
   ]
  },
  {
   "cell_type": "code",
   "execution_count": 7,
   "metadata": {},
   "outputs": [
    {
     "data": {
      "text/plain": [
       "Index(['Price', 'P1', ' P5p1', ' P6p2', ' P11p4', ' P14p9', ' P15p1', ' P15p3',\n",
       "       ' P16p2', ' P18p2', ' P27p4', ' H2p2', ' H8p2', ' H10p1', ' H13p1',\n",
       "       ' H18pA', ' H40p4'],\n",
       "      dtype='object')"
      ]
     },
     "execution_count": 7,
     "metadata": {},
     "output_type": "execute_result"
    }
   ],
   "source": [
    "dataset.columns"
   ]
  },
  {
   "cell_type": "code",
   "execution_count": 8,
   "metadata": {},
   "outputs": [
    {
     "data": {
      "text/html": [
       "<div>\n",
       "<style scoped>\n",
       "    .dataframe tbody tr th:only-of-type {\n",
       "        vertical-align: middle;\n",
       "    }\n",
       "\n",
       "    .dataframe tbody tr th {\n",
       "        vertical-align: top;\n",
       "    }\n",
       "\n",
       "    .dataframe thead th {\n",
       "        text-align: right;\n",
       "    }\n",
       "</style>\n",
       "<table border=\"1\" class=\"dataframe\">\n",
       "  <thead>\n",
       "    <tr style=\"text-align: right;\">\n",
       "      <th></th>\n",
       "      <th>Price</th>\n",
       "      <th>P1</th>\n",
       "      <th>P5p1</th>\n",
       "      <th>P6p2</th>\n",
       "      <th>P11p4</th>\n",
       "      <th>P14p9</th>\n",
       "      <th>P15p1</th>\n",
       "      <th>P15p3</th>\n",
       "      <th>P16p2</th>\n",
       "      <th>P18p2</th>\n",
       "      <th>P27p4</th>\n",
       "      <th>H2p2</th>\n",
       "      <th>H8p2</th>\n",
       "      <th>H10p1</th>\n",
       "      <th>H13p1</th>\n",
       "      <th>H18pA</th>\n",
       "      <th>H40p4</th>\n",
       "    </tr>\n",
       "  </thead>\n",
       "  <tbody>\n",
       "    <tr>\n",
       "      <th>0</th>\n",
       "      <td>14999</td>\n",
       "      <td>219</td>\n",
       "      <td>0.506849</td>\n",
       "      <td>0.031963</td>\n",
       "      <td>0.146119</td>\n",
       "      <td>0.101852</td>\n",
       "      <td>0.876712</td>\n",
       "      <td>0.000000</td>\n",
       "      <td>0.746988</td>\n",
       "      <td>0.012048</td>\n",
       "      <td>0.060241</td>\n",
       "      <td>0.231482</td>\n",
       "      <td>0.024096</td>\n",
       "      <td>0.987952</td>\n",
       "      <td>0.351852</td>\n",
       "      <td>0.000000</td>\n",
       "      <td>0.800000</td>\n",
       "    </tr>\n",
       "    <tr>\n",
       "      <th>1</th>\n",
       "      <td>106200</td>\n",
       "      <td>2273</td>\n",
       "      <td>0.495381</td>\n",
       "      <td>0.018918</td>\n",
       "      <td>0.067312</td>\n",
       "      <td>0.045336</td>\n",
       "      <td>0.794545</td>\n",
       "      <td>0.016718</td>\n",
       "      <td>0.641053</td>\n",
       "      <td>0.002105</td>\n",
       "      <td>0.076842</td>\n",
       "      <td>0.064961</td>\n",
       "      <td>0.017895</td>\n",
       "      <td>0.997895</td>\n",
       "      <td>0.170276</td>\n",
       "      <td>0.054217</td>\n",
       "      <td>0.258064</td>\n",
       "    </tr>\n",
       "    <tr>\n",
       "      <th>2</th>\n",
       "      <td>14999</td>\n",
       "      <td>564</td>\n",
       "      <td>0.457447</td>\n",
       "      <td>0.058511</td>\n",
       "      <td>0.299645</td>\n",
       "      <td>0.238562</td>\n",
       "      <td>0.764184</td>\n",
       "      <td>0.010638</td>\n",
       "      <td>0.567273</td>\n",
       "      <td>0.003636</td>\n",
       "      <td>0.014545</td>\n",
       "      <td>0.140625</td>\n",
       "      <td>0.054545</td>\n",
       "      <td>0.996364</td>\n",
       "      <td>0.381250</td>\n",
       "      <td>0.056180</td>\n",
       "      <td>1.000000</td>\n",
       "    </tr>\n",
       "    <tr>\n",
       "      <th>3</th>\n",
       "      <td>29900</td>\n",
       "      <td>620</td>\n",
       "      <td>0.495161</td>\n",
       "      <td>0.003226</td>\n",
       "      <td>0.104839</td>\n",
       "      <td>0.086262</td>\n",
       "      <td>0.909677</td>\n",
       "      <td>0.000000</td>\n",
       "      <td>0.792793</td>\n",
       "      <td>0.009009</td>\n",
       "      <td>0.027027</td>\n",
       "      <td>0.051282</td>\n",
       "      <td>0.004504</td>\n",
       "      <td>0.995495</td>\n",
       "      <td>0.183761</td>\n",
       "      <td>0.162791</td>\n",
       "      <td>0.000000</td>\n",
       "    </tr>\n",
       "    <tr>\n",
       "      <th>4</th>\n",
       "      <td>85900</td>\n",
       "      <td>3809</td>\n",
       "      <td>0.491730</td>\n",
       "      <td>0.205303</td>\n",
       "      <td>0.107115</td>\n",
       "      <td>0.085744</td>\n",
       "      <td>0.899449</td>\n",
       "      <td>0.000000</td>\n",
       "      <td>0.766566</td>\n",
       "      <td>0.008283</td>\n",
       "      <td>0.039910</td>\n",
       "      <td>0.017024</td>\n",
       "      <td>0.200301</td>\n",
       "      <td>0.985693</td>\n",
       "      <td>0.198372</td>\n",
       "      <td>0.106557</td>\n",
       "      <td>0.666667</td>\n",
       "    </tr>\n",
       "  </tbody>\n",
       "</table>\n",
       "</div>"
      ],
      "text/plain": [
       "    Price    P1      P5p1      P6p2     P11p4     P14p9     P15p1     P15p3  \\\n",
       "0   14999   219  0.506849  0.031963  0.146119  0.101852  0.876712  0.000000   \n",
       "1  106200  2273  0.495381  0.018918  0.067312  0.045336  0.794545  0.016718   \n",
       "2   14999   564  0.457447  0.058511  0.299645  0.238562  0.764184  0.010638   \n",
       "3   29900   620  0.495161  0.003226  0.104839  0.086262  0.909677  0.000000   \n",
       "4   85900  3809  0.491730  0.205303  0.107115  0.085744  0.899449  0.000000   \n",
       "\n",
       "      P16p2     P18p2     P27p4      H2p2      H8p2     H10p1     H13p1  \\\n",
       "0  0.746988  0.012048  0.060241  0.231482  0.024096  0.987952  0.351852   \n",
       "1  0.641053  0.002105  0.076842  0.064961  0.017895  0.997895  0.170276   \n",
       "2  0.567273  0.003636  0.014545  0.140625  0.054545  0.996364  0.381250   \n",
       "3  0.792793  0.009009  0.027027  0.051282  0.004504  0.995495  0.183761   \n",
       "4  0.766566  0.008283  0.039910  0.017024  0.200301  0.985693  0.198372   \n",
       "\n",
       "      H18pA     H40p4  \n",
       "0  0.000000  0.800000  \n",
       "1  0.054217  0.258064  \n",
       "2  0.056180  1.000000  \n",
       "3  0.162791  0.000000  \n",
       "4  0.106557  0.666667  "
      ]
     },
     "execution_count": 8,
     "metadata": {},
     "output_type": "execute_result"
    }
   ],
   "source": [
    "# vamos olhar para uma pequena parte do dataset\n",
    "dataset.head()"
   ]
  },
  {
   "attachments": {},
   "cell_type": "markdown",
   "metadata": {},
   "source": [
    "## Treinamento do modelo"
   ]
  },
  {
   "cell_type": "code",
   "execution_count": 7,
   "metadata": {},
   "outputs": [
    {
     "data": {
      "text/plain": [
       "LogisticRegression()"
      ]
     },
     "execution_count": 7,
     "metadata": {},
     "output_type": "execute_result"
    }
   ],
   "source": [
    "# para treinar e avaliar um classificador, precisamos dividir o dataset em dois conjuntos, ...\n",
    "X_train, X_test, y_train, y_test = train_test_split(filtered_X[[feature_0, feature_1]], filtered_y, test_size=0.3, random_state=199)\n",
    "\n",
    "# ... referenciar e treinar o modelo\n",
    "model = LogisticRegression()\n",
    "model.fit(X_train, y_train)"
   ]
  },
  {
   "cell_type": "code",
   "execution_count": 8,
   "metadata": {},
   "outputs": [
    {
     "name": "stdout",
     "output_type": "stream",
     "text": [
      "              precision    recall  f1-score   support\n",
      "\n",
      "           0       0.82      0.64      0.72        14\n",
      "           1       0.82      0.92      0.87        25\n",
      "\n",
      "    accuracy                           0.82        39\n",
      "   macro avg       0.82      0.78      0.79        39\n",
      "weighted avg       0.82      0.82      0.81        39\n",
      "\n"
     ]
    }
   ],
   "source": [
    "# qual o resultado para esse classificador?\n",
    "print(classification_report(y_test, model.predict(X_test)))"
   ]
  },
  {
   "attachments": {},
   "cell_type": "markdown",
   "metadata": {},
   "source": [
    "## Região de decisão"
   ]
  },
  {
   "cell_type": "code",
   "execution_count": 9,
   "metadata": {},
   "outputs": [
    {
     "data": {
      "image/png": "[encoded data removed]",
      "text/plain": [
       "<Figure size 432x288 with 1 Axes>"
      ]
     },
     "metadata": {
      "needs_background": "light"
     },
     "output_type": "display_data"
    }
   ],
   "source": [
    "# vamos criar uma função que nos ajude a observar a região de decisão do classificador\n",
    "def show_decision_region(x, y, clf, f0, f1):\n",
    "    plot_decision_regions(x, y, clf=clf)\n",
    "    plt.xlabel(f0)\n",
    "    plt.ylabel(f1)\n",
    "    plt.title(clf.__class__.__name__)\n",
    "    plt.show()\n",
    "\n",
    "show_decision_region(\n",
    "    np.array(\n",
    "        [\n",
    "            X_test[feature_0].values, \n",
    "            X_test[feature_1].values,\n",
    "        ]\n",
    "    ).T, \n",
    "    y_test.values, \n",
    "    model, \n",
    "    feature_0, \n",
    "    feature_1\n",
    ")"
   ]
  },
  {
   "cell_type": "code",
   "execution_count": 10,
   "metadata": {},
   "outputs": [
    {
     "name": "stdout",
     "output_type": "stream",
     "text": [
      "              precision    recall  f1-score   support\n",
      "\n",
      "           0       0.76      0.89      0.82        18\n",
      "           1       0.88      0.96      0.92        24\n",
      "           2       0.86      0.50      0.63        12\n",
      "\n",
      "    accuracy                           0.83        54\n",
      "   macro avg       0.83      0.78      0.79        54\n",
      "weighted avg       0.84      0.83      0.82        54\n",
      "\n"
     ]
    }
   ],
   "source": [
    "# como o classificador se comporta com três classes?\n",
    "X_train, X_test, y_train, y_test = train_test_split(X[[feature_0, feature_1]], y, test_size=0.3, random_state=199)\n",
    "model = LogisticRegression()\n",
    "model.fit(X_train, y_train)\n",
    "\n",
    "# quais os resultados para esse classificador?\n",
    "print(classification_report(y_test, model.predict(X_test)))"
   ]
  },
  {
   "cell_type": "code",
   "execution_count": 11,
   "metadata": {},
   "outputs": [
    {
     "data": {
      "image/png": "[encoded data removed]",
      "text/plain": [
       "<Figure size 432x288 with 1 Axes>"
      ]
     },
     "metadata": {
      "needs_background": "light"
     },
     "output_type": "display_data"
    }
   ],
   "source": [
    "show_decision_region(\n",
    "    np.stack(\n",
    "        [\n",
    "            X_test[feature_0].values, \n",
    "            X_test[feature_1].values,\n",
    "        ],\n",
    "        axis=1\n",
    "    ), \n",
    "    y_test.values, \n",
    "    model, \n",
    "    feature_0, \n",
    "    feature_1\n",
    ")"
   ]
  },
  {
   "attachments": {},
   "cell_type": "markdown",
   "metadata": {},
   "source": [
    "Como é possível um classificador linear classificar três classes?"
   ]
  },
  {
   "attachments": {},
   "cell_type": "markdown",
   "metadata": {},
   "source": [
    "## Regressão Linear\n",
    "\n",
    "A regressão linear funciona de forma similar à regressão logística. Entretanto, é um modelo de regressão, e não de classificação. Com ela, podemos relacionar duas variáveis a partir de uma equação linear. Vamos desconsiderar as classes no nosso dataset de vinhos e relacionar as features _alcohol_ e _color_intensity_.\n",
    "\n",
    "Lembrando da fómula da equação linear: $y = a \\times x  + b$"
   ]
  },
  {
   "cell_type": "code",
   "execution_count": 33,
   "metadata": {},
   "outputs": [
    {
     "data": {
      "text/plain": [
       "LinearRegression()"
      ]
     },
     "execution_count": 33,
     "metadata": {},
     "output_type": "execute_result"
    }
   ],
   "source": [
    "# vamos apenas escolher duas features, uma para ser o x, outra para ser o y da nossa regressão\n",
    "feature_0 = \"alcohol\"\n",
    "feature_1 = \"color_intensity\"\n",
    "\n",
    "X_train, X_test, y_train, y_test = train_test_split(filtered_X[[feature_0]].values, filtered_X[[feature_1]].values, test_size=0.3, random_state=199)\n",
    "\n",
    "regression_model = LinearRegression()\n",
    "regression_model.fit(X_train, y_train)\n"
   ]
  },
  {
   "cell_type": "code",
   "execution_count": 17,
   "metadata": {},
   "outputs": [
    {
     "data": {
      "text/plain": [
       "<matplotlib.collections.PathCollection at 0x147603d7b38>"
      ]
     },
     "execution_count": 17,
     "metadata": {},
     "output_type": "execute_result"
    },
    {
     "data": {
      "image/png": "[encoded data removed]",
      "text/plain": [
       "<Figure size 432x288 with 1 Axes>"
      ]
     },
     "metadata": {
      "needs_background": "light"
     },
     "output_type": "display_data"
    }
   ],
   "source": [
    "# vamos definir uma simples função para plotar a reta\n",
    "def plot_regression_line(x, model):\n",
    "    a = model.coef_[0] # coef_ é o coeficiente da reta (a)\n",
    "    b = model.intercept_[0] # intercept_ é o termo independente (b)\n",
    "    x = np.linspace(x.min(), x.max(), 50)\n",
    "    plt.plot(x, a*x+b, linestyle='-', color=\"r\")\n",
    "\n",
    "plot_regression_line(X_test, regression_model)\n",
    "\n",
    "plt.scatter(X_test, y_test)"
   ]
  },
  {
   "attachments": {},
   "cell_type": "markdown",
   "metadata": {},
   "source": [
    "## Referências\n",
    "\n",
    "[1] [Identification of red wine categories based on physicochemical properties. Bai, Xueting and Wang, Lingbo and Li, Hanning. International Conference on Education Technology, Management and Humanities Science (ETMHS 2019)](https://www.webofproceedings.org/proceedings_series/ESSP/ETMHS%202019/ETMHS19309.pdf)"
   ]
  }
 ],
 "metadata": {
  "kernelspec": {
   "display_name": "Python 3",
   "language": "python",
   "name": "python3"
  },
  "language_info": {
   "codemirror_mode": {
    "name": "ipython",
    "version": 3
   },
   "file_extension": ".py",
   "mimetype": "text/x-python",
   "name": "python",
   "nbconvert_exporter": "python",
   "pygments_lexer": "ipython3",
   "version": "3.10.6"
  }
 },
 "nbformat": 4,
 "nbformat_minor": 4
}
