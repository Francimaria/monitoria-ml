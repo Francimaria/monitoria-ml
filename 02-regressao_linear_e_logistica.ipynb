{
 "cells": [
  {
   "cell_type": "markdown",
   "metadata": {},
   "source": [
    "# Regressão Linear e Logística\n",
    "\n",
    "***"
   ]
  },
  {
   "cell_type": "markdown",
   "metadata": {},
   "source": [
    "## Índice"
   ]
  },
  {
   "cell_type": "markdown",
   "metadata": {},
   "source": [
    "1. [Importando bibliotecas](#importando-bibliotecas)\n",
    "2. [Análise do dataset](#análise-do-dataset)\n",
    "3. [Treinamento do modelo](#treinamento-do-modelo)\n",
    "4. [Região de decisão](#região-de-decisão)\n",
    "5. [Regressão Linear](#regressão-linear)\n",
    "6. [Referências](#referências)"
   ]
  },
  {
   "cell_type": "markdown",
   "metadata": {},
   "source": [
    "## Importanto Bibliotecas"
   ]
  },
  {
   "cell_type": "code",
   "execution_count": 3,
   "metadata": {},
   "outputs": [],
   "source": [
    "# Bibliotecas de manipualção e visualização de dados\n",
    "import numpy as np\n",
    "import matplotlib.pyplot as plt\n",
    "from mlxtend.plotting import plot_decision_regions\n",
    "\n",
    "# Classes dos modelo\n",
    "from sklearn.linear_model import LogisticRegression, LinearRegression\n",
    "\n",
    "# Funções de avaliação dos modelos\n",
    "from sklearn.metrics import classification_report\n",
    "from sklearn.model_selection import train_test_split\n",
    "\n",
    "# Função para carregar nosso dataset\n",
    "from sklearn.datasets import load_wine"
   ]
  },
  {
   "cell_type": "markdown",
   "metadata": {},
   "source": [
    "## Análise do dataset"
   ]
  },
  {
   "cell_type": "code",
   "execution_count": 32,
   "metadata": {},
   "outputs": [
    {
     "name": "stdout",
     "output_type": "stream",
     "text": [
      "Quantas classes existem nesse dataset?\n",
      "3\n",
      "\n",
      "Quantas instâncias existem no dataset?\n",
      "178\n",
      "\n",
      "Quantas features existem no dataset?\n",
      "13\n",
      "\n",
      "Que features são essas?\n",
      "['alcohol', 'malic_acid', 'ash', 'alcalinity_of_ash', 'magnesium', 'total_phenols', 'flavanoids', 'nonflavanoid_phenols', 'proanthocyanins', 'color_intensity', 'hue', 'od280/od315_of_diluted_wines', 'proline']\n",
      "\n",
      "Qual o numero de instâncias por classe?\n",
      "Classe 0: 59\n",
      "Classe 1: 71\n",
      "Classe 2: 48\n",
      "\n",
      "\n",
      "Como esse dataset se parece?\n",
      "\n"
     ]
    }
   ],
   "source": [
    "# vamos carregar o dataset, return_X_y garante que receberemos uma tupla: instâncias, classes. as_frame garante que essas tuplas serão um dataframe fácil de entender\n",
    "X, y = load_wine(return_X_y=True, as_frame=True)\n",
    "\n",
    "# algumas perguntas...\n",
    "print(\"Quantas classes existem nesse dataset?\\n%d\" %(len(y.unique())))\n",
    "print(\"\\nQuantas instâncias existem no dataset?\\n%d\" %(len(y)))\n",
    "print(\"\\nQuantas features existem no dataset?\\n%d\" %(X.shape[1]))\n",
    "print(\"\\nQue features são essas?\\n%s\" %(str([k for k in X.keys()])))\n",
    "print(\"\\nQual o numero de instâncias por classe?\")\n",
    "frequency = np.unique(y.values, return_counts=True)[1]\n",
    "for c in range(3):\n",
    "    print(\"Classe %d: %d\" %(c, frequency[c]))\n",
    "print(\"\\n\\nComo esse dataset se parece?\\n\")\n"
   ]
  },
  {
   "cell_type": "code",
   "execution_count": 5,
   "metadata": {},
   "outputs": [
    {
     "data": {
      "text/html": [
       "<div>\n",
       "<style scoped>\n",
       "    .dataframe tbody tr th:only-of-type {\n",
       "        vertical-align: middle;\n",
       "    }\n",
       "\n",
       "    .dataframe tbody tr th {\n",
       "        vertical-align: top;\n",
       "    }\n",
       "\n",
       "    .dataframe thead th {\n",
       "        text-align: right;\n",
       "    }\n",
       "</style>\n",
       "<table border=\"1\" class=\"dataframe\">\n",
       "  <thead>\n",
       "    <tr style=\"text-align: right;\">\n",
       "      <th></th>\n",
       "      <th>alcohol</th>\n",
       "      <th>malic_acid</th>\n",
       "      <th>ash</th>\n",
       "      <th>alcalinity_of_ash</th>\n",
       "      <th>magnesium</th>\n",
       "      <th>total_phenols</th>\n",
       "      <th>flavanoids</th>\n",
       "      <th>nonflavanoid_phenols</th>\n",
       "      <th>proanthocyanins</th>\n",
       "      <th>color_intensity</th>\n",
       "      <th>hue</th>\n",
       "      <th>od280/od315_of_diluted_wines</th>\n",
       "      <th>proline</th>\n",
       "    </tr>\n",
       "  </thead>\n",
       "  <tbody>\n",
       "    <tr>\n",
       "      <th>0</th>\n",
       "      <td>14.23</td>\n",
       "      <td>1.71</td>\n",
       "      <td>2.43</td>\n",
       "      <td>15.6</td>\n",
       "      <td>127.0</td>\n",
       "      <td>2.80</td>\n",
       "      <td>3.06</td>\n",
       "      <td>0.28</td>\n",
       "      <td>2.29</td>\n",
       "      <td>5.64</td>\n",
       "      <td>1.04</td>\n",
       "      <td>3.92</td>\n",
       "      <td>1065.0</td>\n",
       "    </tr>\n",
       "    <tr>\n",
       "      <th>1</th>\n",
       "      <td>13.20</td>\n",
       "      <td>1.78</td>\n",
       "      <td>2.14</td>\n",
       "      <td>11.2</td>\n",
       "      <td>100.0</td>\n",
       "      <td>2.65</td>\n",
       "      <td>2.76</td>\n",
       "      <td>0.26</td>\n",
       "      <td>1.28</td>\n",
       "      <td>4.38</td>\n",
       "      <td>1.05</td>\n",
       "      <td>3.40</td>\n",
       "      <td>1050.0</td>\n",
       "    </tr>\n",
       "    <tr>\n",
       "      <th>2</th>\n",
       "      <td>13.16</td>\n",
       "      <td>2.36</td>\n",
       "      <td>2.67</td>\n",
       "      <td>18.6</td>\n",
       "      <td>101.0</td>\n",
       "      <td>2.80</td>\n",
       "      <td>3.24</td>\n",
       "      <td>0.30</td>\n",
       "      <td>2.81</td>\n",
       "      <td>5.68</td>\n",
       "      <td>1.03</td>\n",
       "      <td>3.17</td>\n",
       "      <td>1185.0</td>\n",
       "    </tr>\n",
       "    <tr>\n",
       "      <th>3</th>\n",
       "      <td>14.37</td>\n",
       "      <td>1.95</td>\n",
       "      <td>2.50</td>\n",
       "      <td>16.8</td>\n",
       "      <td>113.0</td>\n",
       "      <td>3.85</td>\n",
       "      <td>3.49</td>\n",
       "      <td>0.24</td>\n",
       "      <td>2.18</td>\n",
       "      <td>7.80</td>\n",
       "      <td>0.86</td>\n",
       "      <td>3.45</td>\n",
       "      <td>1480.0</td>\n",
       "    </tr>\n",
       "    <tr>\n",
       "      <th>4</th>\n",
       "      <td>13.24</td>\n",
       "      <td>2.59</td>\n",
       "      <td>2.87</td>\n",
       "      <td>21.0</td>\n",
       "      <td>118.0</td>\n",
       "      <td>2.80</td>\n",
       "      <td>2.69</td>\n",
       "      <td>0.39</td>\n",
       "      <td>1.82</td>\n",
       "      <td>4.32</td>\n",
       "      <td>1.04</td>\n",
       "      <td>2.93</td>\n",
       "      <td>735.0</td>\n",
       "    </tr>\n",
       "  </tbody>\n",
       "</table>\n",
       "</div>"
      ],
      "text/plain": [
       "   alcohol  malic_acid   ash  alcalinity_of_ash  magnesium  total_phenols  \\\n",
       "0    14.23        1.71  2.43               15.6      127.0           2.80   \n",
       "1    13.20        1.78  2.14               11.2      100.0           2.65   \n",
       "2    13.16        2.36  2.67               18.6      101.0           2.80   \n",
       "3    14.37        1.95  2.50               16.8      113.0           3.85   \n",
       "4    13.24        2.59  2.87               21.0      118.0           2.80   \n",
       "\n",
       "   flavanoids  nonflavanoid_phenols  proanthocyanins  color_intensity   hue  \\\n",
       "0        3.06                  0.28             2.29             5.64  1.04   \n",
       "1        2.76                  0.26             1.28             4.38  1.05   \n",
       "2        3.24                  0.30             2.81             5.68  1.03   \n",
       "3        3.49                  0.24             2.18             7.80  0.86   \n",
       "4        2.69                  0.39             1.82             4.32  1.04   \n",
       "\n",
       "   od280/od315_of_diluted_wines  proline  \n",
       "0                          3.92   1065.0  \n",
       "1                          3.40   1050.0  \n",
       "2                          3.17   1185.0  \n",
       "3                          3.45   1480.0  \n",
       "4                          2.93    735.0  "
      ]
     },
     "execution_count": 5,
     "metadata": {},
     "output_type": "execute_result"
    }
   ],
   "source": [
    "# vamos olhar para uma pequena parte do dataset\n",
    "X.head()"
   ]
  },
  {
   "cell_type": "markdown",
   "metadata": {},
   "source": [
    "Certo. Mas o que cada uma dessas _features_ significa? [1]\n",
    "\n",
    "**'alcohol'**: Teor alcóolico do vinho.\n",
    "\n",
    "**'malic_acid'**: Acido málico é um tipo de ácido de forte aroma de maçã e acidez. O vermelho do vinho é acompanhado pelo ácido málico.\n",
    "\n",
    "**'ash'**: A essência das cinzas é um sal inorgânico, que afeta o sabor geral do vinho e pode dar uma sensação de frescor.\n",
    "\n",
    "**'alcalinity_of_ash'**: Alcalinidade das cinzas é uma medida da alcalinidade da água.\n",
    "\n",
    "**'magnesium'**: Magnésio é um elemento essencial para o corpo humano, tem baixa alcalinidade, e pode acelerar o metabolismo.\n",
    "\n",
    "**'total_phenols'**: Polifenóis são os principais nutrientes no vinho, que são amargas e além de afetar o sabor do vinho, dão coloração e aroma.\n",
    "\n",
    "**'flavanoids'**: Flavonóides são antioxidantes, ricos em aroma e amargor, benéficos para o coração e tem um efeito anti-idade.\n",
    "\n",
    "**'nonflavanoid_phenols'**: Fenóis não flavonóides são gases aromáticos especiais, resistenes à oxidação e são levemente ácidos.\n",
    "\n",
    "**'proanthocyanins'**: Proantocianidina é um polifenol presente nas sementes da uva que são um antioxidante natural com um leve cheiro amargo.\n",
    "\n",
    "**'color_intensity'**: Intensidade de cor refere-se ao grau de tonalidade da cor. É usado para medir se um vinho é \"pesado\" ou \"leve\". Quanto mais tempo o vinho e o suco de uva estiverem em contato durante a produção do vinho, mais pesado é o sabor.\n",
    "\n",
    "**'hue'**: A matriz representa a vividez da cor e se um vinho tem uma matriz de cor \"fria\" ou \"quente\". Pode ser usado para medir a variedade e idade de um vinho. Vinhos tintos mais velhos terão uma coloração mais amarelada e transparente. Intensidade de cor e matriz são indicadores importantes para avaliar a qualidade da aparência de um vinho.\n",
    "\n",
    "**'od280/od315_of_diluted_wines'**: Medida química de contentração proteica do vinho.\n",
    "\n",
    "**'proline'**: Prolina é o principal amino ácido presente no vinho tinto, parte importante da nutrição e do sabor do vinho."
   ]
  },
  {
   "cell_type": "code",
   "execution_count": 6,
   "metadata": {},
   "outputs": [
    {
     "data": {
      "text/plain": [
       "<matplotlib.collections.PathCollection at 0x1475f984a58>"
      ]
     },
     "execution_count": 6,
     "metadata": {},
     "output_type": "execute_result"
    },
    {
     "data": {
      "image/png": "[encoded data removed]",
      "text/plain": [
       "<Figure size 432x288 with 1 Axes>"
      ]
     },
     "metadata": {
      "needs_background": "light"
     },
     "output_type": "display_data"
    }
   ],
   "source": [
    "## vamos apenas observador duas classes desse dataset, 0 e 1\n",
    "class_a = 0\n",
    "class_b = 1\n",
    "class_0_instances = (y == class_a)\n",
    "class_1_instances = (y == class_b)\n",
    "\n",
    "filtered_y = y[class_0_instances | class_1_instances]\n",
    "filtered_X = X[class_0_instances | class_1_instances]\n",
    "\n",
    "# vamos definir cores e simbolos para nossas classses\n",
    "colors = {0: \"steelblue\", 1: \"darkorange\", 2: \"mediumseagreen\"}\n",
    "markers = {0: \"s\", 1: \"^\", 2:\"o\"}\n",
    "\n",
    "# como duas classes estão distribuidas por duas features?\n",
    "feature_0 = \"alcohol\"\n",
    "feature_1 = \"color_intensity\"\n",
    "\n",
    "# vamos observar cada uma das classes usando duas features\n",
    "plt.scatter(\n",
    "    X[feature_0][class_0_instances],\n",
    "    X[feature_1][class_0_instances], \n",
    "    c=colors[class_a], \n",
    "    marker=markers[class_a]\n",
    ")\n",
    "plt.scatter(\n",
    "    X[feature_0][class_1_instances], \n",
    "    X[feature_1][class_1_instances], \n",
    "    c=colors[class_b], \n",
    "    marker=markers[class_b]\n",
    ")"
   ]
  },
  {
   "cell_type": "markdown",
   "metadata": {},
   "source": [
    "## Treinamento do modelo"
   ]
  },
  {
   "cell_type": "code",
   "execution_count": 7,
   "metadata": {},
   "outputs": [
    {
     "data": {
      "text/plain": [
       "LogisticRegression()"
      ]
     },
     "execution_count": 7,
     "metadata": {},
     "output_type": "execute_result"
    }
   ],
   "source": [
    "# para treinar e avaliar um classificador, precisamos dividir o dataset em dois conjuntos, ...\n",
    "X_train, X_test, y_train, y_test = train_test_split(filtered_X[[feature_0, feature_1]], filtered_y, test_size=0.3, random_state=199)\n",
    "\n",
    "# ... referenciar e treinar o modelo\n",
    "model = LogisticRegression()\n",
    "model.fit(X_train, y_train)"
   ]
  },
  {
   "cell_type": "code",
   "execution_count": 8,
   "metadata": {},
   "outputs": [
    {
     "name": "stdout",
     "output_type": "stream",
     "text": [
      "              precision    recall  f1-score   support\n",
      "\n",
      "           0       0.82      0.64      0.72        14\n",
      "           1       0.82      0.92      0.87        25\n",
      "\n",
      "    accuracy                           0.82        39\n",
      "   macro avg       0.82      0.78      0.79        39\n",
      "weighted avg       0.82      0.82      0.81        39\n",
      "\n"
     ]
    }
   ],
   "source": [
    "# qual o resultado para esse classificador?\n",
    "print(classification_report(y_test, model.predict(X_test)))"
   ]
  },
  {
   "cell_type": "markdown",
   "metadata": {},
   "source": [
    "## Região de decisão"
   ]
  },
  {
   "cell_type": "code",
   "execution_count": 9,
   "metadata": {},
   "outputs": [
    {
     "data": {
      "image/png": "[encoded data removed]",
      "text/plain": [
       "<Figure size 432x288 with 1 Axes>"
      ]
     },
     "metadata": {
      "needs_background": "light"
     },
     "output_type": "display_data"
    }
   ],
   "source": [
    "# vamos criar uma função que nos ajude a observar a região de decisão do classificador\n",
    "def show_decision_region(x, y, clf, f0, f1):\n",
    "    plot_decision_regions(x, y, clf=clf)\n",
    "    plt.xlabel(f0)\n",
    "    plt.ylabel(f1)\n",
    "    plt.title(clf.__class__.__name__)\n",
    "    plt.show()\n",
    "\n",
    "show_decision_region(\n",
    "    np.array(\n",
    "        [\n",
    "            X_test[feature_0].values, \n",
    "            X_test[feature_1].values,\n",
    "        ]\n",
    "    ).T, \n",
    "    y_test.values, \n",
    "    model, \n",
    "    feature_0, \n",
    "    feature_1\n",
    ")"
   ]
  },
  {
   "cell_type": "code",
   "execution_count": 10,
   "metadata": {},
   "outputs": [
    {
     "name": "stdout",
     "output_type": "stream",
     "text": [
      "              precision    recall  f1-score   support\n",
      "\n",
      "           0       0.76      0.89      0.82        18\n",
      "           1       0.88      0.96      0.92        24\n",
      "           2       0.86      0.50      0.63        12\n",
      "\n",
      "    accuracy                           0.83        54\n",
      "   macro avg       0.83      0.78      0.79        54\n",
      "weighted avg       0.84      0.83      0.82        54\n",
      "\n"
     ]
    }
   ],
   "source": [
    "# como o classificador se comporta com três classes?\n",
    "X_train, X_test, y_train, y_test = train_test_split(X[[feature_0, feature_1]], y, test_size=0.3, random_state=199)\n",
    "model = LogisticRegression()\n",
    "model.fit(X_train, y_train)\n",
    "\n",
    "# quais os resultados para esse classificador?\n",
    "print(classification_report(y_test, model.predict(X_test)))"
   ]
  },
  {
   "cell_type": "code",
   "execution_count": 11,
   "metadata": {},
   "outputs": [
    {
     "data": {
      "image/png": "[encoded data removed]",
      "text/plain": [
       "<Figure size 432x288 with 1 Axes>"
      ]
     },
     "metadata": {
      "needs_background": "light"
     },
     "output_type": "display_data"
    }
   ],
   "source": [
    "show_decision_region(\n",
    "    np.stack(\n",
    "        [\n",
    "            X_test[feature_0].values, \n",
    "            X_test[feature_1].values,\n",
    "        ],\n",
    "        axis=1\n",
    "    ), \n",
    "    y_test.values, \n",
    "    model, \n",
    "    feature_0, \n",
    "    feature_1\n",
    ")"
   ]
  },
  {
   "cell_type": "markdown",
   "metadata": {},
   "source": [
    "Como é possível um classificador linear classificar três classes?"
   ]
  },
  {
   "cell_type": "markdown",
   "metadata": {},
   "source": [
    "## Regressão Linear\n",
    "\n",
    "A regressão linear funciona de forma similar à regressão logística. Entretanto, é um modelo de regressão, e não de classificação. Com ela, podemos relacionar duas variáveis a partir de uma equação linear. Vamos desconsiderar as classes no nosso dataset de vinhos e relacionar as features _alcohol_ e _color_intensity_.\n",
    "\n",
    "Lembrando da fómula da equação linear: $y = a \\times x  + b$"
   ]
  },
  {
   "cell_type": "code",
   "execution_count": 33,
   "metadata": {},
   "outputs": [
    {
     "data": {
      "text/plain": [
       "LinearRegression()"
      ]
     },
     "execution_count": 33,
     "metadata": {},
     "output_type": "execute_result"
    }
   ],
   "source": [
    "# vamos apenas escolher duas features, uma para ser o x, outra para ser o y da nossa regressão\n",
    "feature_0 = \"alcohol\"\n",
    "feature_1 = \"color_intensity\"\n",
    "\n",
    "X_train, X_test, y_train, y_test = train_test_split(filtered_X[[feature_0]].values, filtered_X[[feature_1]].values, test_size=0.3, random_state=199)\n",
    "\n",
    "regression_model = LinearRegression()\n",
    "regression_model.fit(X_train, y_train)\n"
   ]
  },
  {
   "cell_type": "code",
   "execution_count": 17,
   "metadata": {},
   "outputs": [
    {
     "data": {
      "text/plain": [
       "<matplotlib.collections.PathCollection at 0x147603d7b38>"
      ]
     },
     "execution_count": 17,
     "metadata": {},
     "output_type": "execute_result"
    },
    {
     "data": {
      "image/png": "[encoded data removed]",
      "text/plain": [
       "<Figure size 432x288 with 1 Axes>"
      ]
     },
     "metadata": {
      "needs_background": "light"
     },
     "output_type": "display_data"
    }
   ],
   "source": [
    "# vamos definir uma simples função para plotar a reta\n",
    "def plot_regression_line(x, model):\n",
    "    a = model.coef_[0] # coef_ é o coeficiente da reta (a)\n",
    "    b = model.intercept_[0] # intercept_ é o termo independente (b)\n",
    "    x = np.linspace(x.min(), x.max(), 50)\n",
    "    plt.plot(x, a*x+b, linestyle='-', color=\"r\")\n",
    "\n",
    "plot_regression_line(X_test, regression_model)\n",
    "\n",
    "plt.scatter(X_test, y_test)"
   ]
  },
  {
   "cell_type": "markdown",
   "metadata": {},
   "source": [
    "## Referências\n",
    "\n",
    "[1] [Identification of red wine categories based on physicochemical properties. Bai, Xueting and Wang, Lingbo and Li, Hanning. International Conference on Education Technology, Management and Humanities Science (ETMHS 2019)](https://www.webofproceedings.org/proceedings_series/ESSP/ETMHS%202019/ETMHS19309.pdf)"
   ]
  }
 ],
 "metadata": {
  "kernelspec": {
   "display_name": "Python 3",
   "language": "python",
   "name": "python3"
  },
  "language_info": {
   "codemirror_mode": {
    "name": "ipython",
    "version": 3
   },
   "file_extension": ".py",
   "mimetype": "text/x-python",
   "name": "python",
   "nbconvert_exporter": "python",
   "pygments_lexer": "ipython3",
   "version": "3.6.13"
  }
 },
 "nbformat": 4,
 "nbformat_minor": 4
}
