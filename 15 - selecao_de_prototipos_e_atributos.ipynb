{
  "cells": [
    {
      "cell_type": "markdown",
      "metadata": {},
      "source": [
        "# Seleção de Protótipos e Atributos\n",
        "\n",
        "***"
      ]
    },
    {
      "cell_type": "code",
      "execution_count": 1,
      "metadata": {
        "id": "pc5C3mfZnr6v"
      },
      "outputs": [],
      "source": [
        "import pandas as pd\n",
        "import matplotlib.pyplot as plt\n",
        "\n",
        "from sklearn.neighbors import KNeighborsClassifier\n",
        "from sklearn.model_selection import train_test_split\n",
        "from sklearn.metrics import classification_report\n",
        "\n",
        "from imblearn.under_sampling import CondensedNearestNeighbour, EditedNearestNeighbours\n",
        "\n",
        "import warnings\n",
        "warnings.filterwarnings('ignore')"
      ]
    },
    {
      "cell_type": "markdown",
      "metadata": {},
      "source": [
        "## Métodos para visualização"
      ]
    },
    {
      "cell_type": "code",
      "execution_count": 2,
      "metadata": {},
      "outputs": [],
      "source": [
        "#Função para visualizar uma região 2d, com duas features\n",
        "def plot_2d_space(X, y, f1, f2, colors=None, markers=None):\n",
        "    colors = {\"M\": \"steelblue\", \"B\": \"darkorange\"} if colors==None else colors\n",
        "    markers = {\"M\": \"s\", \"B\": \"^\"} if markers==None else markers\n",
        "    \n",
        "    plt.figure()\n",
        "    labels = list(y.unique())\n",
        "    labels.sort()\n",
        "\n",
        "    lines = []\n",
        "    for i in labels:\n",
        "        line = plt.scatter(\n",
        "            X[f1][y==i],\n",
        "            X[f2][y==i], \n",
        "            c=colors[i], \n",
        "            marker=markers[i],\n",
        "            label=i,\n",
        "        )\n",
        "\n",
        "        lines.append(line)\n",
        "\n",
        "    plt.xlabel(f1)\n",
        "    plt.ylabel(f2)\n",
        "    \n",
        "\n",
        "    plt.legend(handles=lines)\n",
        "        \n",
        "    plt.show()"
      ]
    },
    {
      "cell_type": "code",
      "execution_count": 3,
      "metadata": {},
      "outputs": [],
      "source": [
        "def percentage(train, resampled):\n",
        "  excluidos = (train-resampled)\n",
        "  percentage = 100 * float(excluidos)/float(train)\n",
        "  return percentage"
      ]
    },
    {
      "cell_type": "markdown",
      "metadata": {},
      "source": [
        "## Análise do conjunto de dados"
      ]
    },
    {
      "cell_type": "code",
      "execution_count": 4,
      "metadata": {
        "id": "2GXcftD9nkJi"
      },
      "outputs": [],
      "source": [
        "dataset = pd.read_csv('https://raw.githubusercontent.com/Francimaria/monitoria-ml/main/breast_cancer_wisconsin_diagnostic.csv')"
      ]
    },
    {
      "cell_type": "code",
      "execution_count": 5,
      "metadata": {},
      "outputs": [
        {
          "data": {
            "text/html": [
              "<div>\n",
              "<style scoped>\n",
              "    .dataframe tbody tr th:only-of-type {\n",
              "        vertical-align: middle;\n",
              "    }\n",
              "\n",
              "    .dataframe tbody tr th {\n",
              "        vertical-align: top;\n",
              "    }\n",
              "\n",
              "    .dataframe thead th {\n",
              "        text-align: right;\n",
              "    }\n",
              "</style>\n",
              "<table border=\"1\" class=\"dataframe\">\n",
              "  <thead>\n",
              "    <tr style=\"text-align: right;\">\n",
              "      <th></th>\n",
              "      <th>diagnosis</th>\n",
              "      <th>radius_Mean</th>\n",
              "      <th>texture_Mean</th>\n",
              "      <th>periMeter_Mean</th>\n",
              "      <th>area_Mean</th>\n",
              "      <th>sMoothness_Mean</th>\n",
              "      <th>coMpactness_Mean</th>\n",
              "      <th>concavity_Mean</th>\n",
              "      <th>concave points_Mean</th>\n",
              "      <th>syMMetry_Mean</th>\n",
              "      <th>...</th>\n",
              "      <th>radius_worst</th>\n",
              "      <th>texture_worst</th>\n",
              "      <th>periMeter_worst</th>\n",
              "      <th>area_worst</th>\n",
              "      <th>sMoothness_worst</th>\n",
              "      <th>coMpactness_worst</th>\n",
              "      <th>concavity_worst</th>\n",
              "      <th>concave points_worst</th>\n",
              "      <th>syMMetry_worst</th>\n",
              "      <th>fractal_diMension_worst</th>\n",
              "    </tr>\n",
              "  </thead>\n",
              "  <tbody>\n",
              "    <tr>\n",
              "      <th>0</th>\n",
              "      <td>M</td>\n",
              "      <td>17.99</td>\n",
              "      <td>10.38</td>\n",
              "      <td>122.80</td>\n",
              "      <td>1001.0</td>\n",
              "      <td>0.11840</td>\n",
              "      <td>0.27760</td>\n",
              "      <td>0.3001</td>\n",
              "      <td>0.14710</td>\n",
              "      <td>0.2419</td>\n",
              "      <td>...</td>\n",
              "      <td>25.38</td>\n",
              "      <td>17.33</td>\n",
              "      <td>184.60</td>\n",
              "      <td>2019.0</td>\n",
              "      <td>0.1622</td>\n",
              "      <td>0.6656</td>\n",
              "      <td>0.7119</td>\n",
              "      <td>0.2654</td>\n",
              "      <td>0.4601</td>\n",
              "      <td>0.11890</td>\n",
              "    </tr>\n",
              "    <tr>\n",
              "      <th>1</th>\n",
              "      <td>M</td>\n",
              "      <td>20.57</td>\n",
              "      <td>17.77</td>\n",
              "      <td>132.90</td>\n",
              "      <td>1326.0</td>\n",
              "      <td>0.08474</td>\n",
              "      <td>0.07864</td>\n",
              "      <td>0.0869</td>\n",
              "      <td>0.07017</td>\n",
              "      <td>0.1812</td>\n",
              "      <td>...</td>\n",
              "      <td>24.99</td>\n",
              "      <td>23.41</td>\n",
              "      <td>158.80</td>\n",
              "      <td>1956.0</td>\n",
              "      <td>0.1238</td>\n",
              "      <td>0.1866</td>\n",
              "      <td>0.2416</td>\n",
              "      <td>0.1860</td>\n",
              "      <td>0.2750</td>\n",
              "      <td>0.08902</td>\n",
              "    </tr>\n",
              "    <tr>\n",
              "      <th>2</th>\n",
              "      <td>M</td>\n",
              "      <td>19.69</td>\n",
              "      <td>21.25</td>\n",
              "      <td>130.00</td>\n",
              "      <td>1203.0</td>\n",
              "      <td>0.10960</td>\n",
              "      <td>0.15990</td>\n",
              "      <td>0.1974</td>\n",
              "      <td>0.12790</td>\n",
              "      <td>0.2069</td>\n",
              "      <td>...</td>\n",
              "      <td>23.57</td>\n",
              "      <td>25.53</td>\n",
              "      <td>152.50</td>\n",
              "      <td>1709.0</td>\n",
              "      <td>0.1444</td>\n",
              "      <td>0.4245</td>\n",
              "      <td>0.4504</td>\n",
              "      <td>0.2430</td>\n",
              "      <td>0.3613</td>\n",
              "      <td>0.08758</td>\n",
              "    </tr>\n",
              "    <tr>\n",
              "      <th>3</th>\n",
              "      <td>M</td>\n",
              "      <td>11.42</td>\n",
              "      <td>20.38</td>\n",
              "      <td>77.58</td>\n",
              "      <td>386.1</td>\n",
              "      <td>0.14250</td>\n",
              "      <td>0.28390</td>\n",
              "      <td>0.2414</td>\n",
              "      <td>0.10520</td>\n",
              "      <td>0.2597</td>\n",
              "      <td>...</td>\n",
              "      <td>14.91</td>\n",
              "      <td>26.50</td>\n",
              "      <td>98.87</td>\n",
              "      <td>567.7</td>\n",
              "      <td>0.2098</td>\n",
              "      <td>0.8663</td>\n",
              "      <td>0.6869</td>\n",
              "      <td>0.2575</td>\n",
              "      <td>0.6638</td>\n",
              "      <td>0.17300</td>\n",
              "    </tr>\n",
              "    <tr>\n",
              "      <th>4</th>\n",
              "      <td>M</td>\n",
              "      <td>20.29</td>\n",
              "      <td>14.34</td>\n",
              "      <td>135.10</td>\n",
              "      <td>1297.0</td>\n",
              "      <td>0.10030</td>\n",
              "      <td>0.13280</td>\n",
              "      <td>0.1980</td>\n",
              "      <td>0.10430</td>\n",
              "      <td>0.1809</td>\n",
              "      <td>...</td>\n",
              "      <td>22.54</td>\n",
              "      <td>16.67</td>\n",
              "      <td>152.20</td>\n",
              "      <td>1575.0</td>\n",
              "      <td>0.1374</td>\n",
              "      <td>0.2050</td>\n",
              "      <td>0.4000</td>\n",
              "      <td>0.1625</td>\n",
              "      <td>0.2364</td>\n",
              "      <td>0.07678</td>\n",
              "    </tr>\n",
              "  </tbody>\n",
              "</table>\n",
              "<p>5 rows × 31 columns</p>\n",
              "</div>"
            ],
            "text/plain": [
              "  diagnosis  radius_Mean  texture_Mean  periMeter_Mean  area_Mean  \\\n",
              "0         M        17.99         10.38          122.80     1001.0   \n",
              "1         M        20.57         17.77          132.90     1326.0   \n",
              "2         M        19.69         21.25          130.00     1203.0   \n",
              "3         M        11.42         20.38           77.58      386.1   \n",
              "4         M        20.29         14.34          135.10     1297.0   \n",
              "\n",
              "   sMoothness_Mean  coMpactness_Mean  concavity_Mean  concave points_Mean  \\\n",
              "0          0.11840           0.27760          0.3001              0.14710   \n",
              "1          0.08474           0.07864          0.0869              0.07017   \n",
              "2          0.10960           0.15990          0.1974              0.12790   \n",
              "3          0.14250           0.28390          0.2414              0.10520   \n",
              "4          0.10030           0.13280          0.1980              0.10430   \n",
              "\n",
              "   syMMetry_Mean  ...  radius_worst  texture_worst  periMeter_worst  \\\n",
              "0         0.2419  ...         25.38          17.33           184.60   \n",
              "1         0.1812  ...         24.99          23.41           158.80   \n",
              "2         0.2069  ...         23.57          25.53           152.50   \n",
              "3         0.2597  ...         14.91          26.50            98.87   \n",
              "4         0.1809  ...         22.54          16.67           152.20   \n",
              "\n",
              "   area_worst  sMoothness_worst  coMpactness_worst  concavity_worst  \\\n",
              "0      2019.0            0.1622             0.6656           0.7119   \n",
              "1      1956.0            0.1238             0.1866           0.2416   \n",
              "2      1709.0            0.1444             0.4245           0.4504   \n",
              "3       567.7            0.2098             0.8663           0.6869   \n",
              "4      1575.0            0.1374             0.2050           0.4000   \n",
              "\n",
              "   concave points_worst  syMMetry_worst  fractal_diMension_worst  \n",
              "0                0.2654          0.4601                  0.11890  \n",
              "1                0.1860          0.2750                  0.08902  \n",
              "2                0.2430          0.3613                  0.08758  \n",
              "3                0.2575          0.6638                  0.17300  \n",
              "4                0.1625          0.2364                  0.07678  \n",
              "\n",
              "[5 rows x 31 columns]"
            ]
          },
          "execution_count": 5,
          "metadata": {},
          "output_type": "execute_result"
        }
      ],
      "source": [
        "dataset.head()"
      ]
    },
    {
      "cell_type": "code",
      "execution_count": 6,
      "metadata": {
        "id": "OeZ9bRConynZ"
      },
      "outputs": [],
      "source": [
        "X = dataset.drop([dataset.columns[0]], axis = 1)\n",
        "y = dataset[dataset.columns[0]]"
      ]
    },
    {
      "cell_type": "code",
      "execution_count": 7,
      "metadata": {
        "id": "IzwQg2qIrXFH"
      },
      "outputs": [],
      "source": [
        "X_train, X_test, y_train, y_test = train_test_split(X, y, test_size=0.3, stratify=y, random_state=42)"
      ]
    },
    {
      "cell_type": "markdown",
      "metadata": {},
      "source": [
        "**Vamos visuaizar os dados usando duas features**"
      ]
    },
    {
      "cell_type": "code",
      "execution_count": 8,
      "metadata": {
        "colab": {
          "base_uri": "https://localhost:8080/",
          "height": 265
        },
        "id": "67jgfUbxGjhc",
        "outputId": "a95c67eb-7dd7-4800-8748-ccf8f90af36a"
      },
      "outputs": [
        {
          "data": {
            "image/png": "[encoded data removed]",
            "text/plain": [
              "<Figure size 640x480 with 1 Axes>"
            ]
          },
          "metadata": {},
          "output_type": "display_data"
        }
      ],
      "source": [
        "feature_0 = \"radius_Mean\"\n",
        "feature_1 = \"texture_Mean\"\n",
        "\n",
        "plot_2d_space(X_train, y_train, feature_0, feature_1)"
      ]
    },
    {
      "cell_type": "code",
      "execution_count": 9,
      "metadata": {
        "colab": {
          "base_uri": "https://localhost:8080/"
        },
        "id": "zfVgGyw_HMbR",
        "outputId": "104b1c31-1a80-4b99-8be2-758b9af2fd06"
      },
      "outputs": [
        {
          "data": {
            "text/plain": [
              "B    250\n",
              "M    148\n",
              "Name: diagnosis, dtype: int64"
            ]
          },
          "execution_count": 9,
          "metadata": {},
          "output_type": "execute_result"
        }
      ],
      "source": [
        "y_train.value_counts()"
      ]
    },
    {
      "cell_type": "markdown",
      "metadata": {},
      "source": [
        "**Treinando um classificador com os valores default**"
      ]
    },
    {
      "cell_type": "code",
      "execution_count": 10,
      "metadata": {
        "colab": {
          "base_uri": "https://localhost:8080/"
        },
        "id": "5pNQ_noZFkmE",
        "outputId": "a4127354-281f-46ea-8d2e-0f0fb6f62ee3"
      },
      "outputs": [
        {
          "name": "stdout",
          "output_type": "stream",
          "text": [
            "              precision    recall  f1-score   support\n",
            "\n",
            "           B       0.91      0.99      0.95       107\n",
            "           M       0.98      0.83      0.90        64\n",
            "\n",
            "    accuracy                           0.93       171\n",
            "   macro avg       0.94      0.91      0.92       171\n",
            "weighted avg       0.93      0.93      0.93       171\n",
            "\n"
          ]
        }
      ],
      "source": [
        "knn = KNeighborsClassifier()\n",
        "knn.fit(X_train, y_train)\n",
        "y_pred = knn.predict(X_test)\n",
        "\n",
        "# vamos observar cada uma das classes usando duas features..\n",
        "\n",
        "print(classification_report(y_test, y_pred))"
      ]
    },
    {
      "cell_type": "markdown",
      "metadata": {
        "id": "LKjt9u9LE-IN"
      },
      "source": [
        "# **Seleção de Protótipos**\n",
        "\n"
      ]
    },
    {
      "cell_type": "markdown",
      "metadata": {
        "id": "hGcS5BX7zx7a"
      },
      "source": [
        "## Edited Nearest Neighbours **(ENN)**\n",
        "\n",
        "Atua como filtro removedor de ruídos e suavizador de limites de decisão\n",
        "\n",
        "Parâmetros: \n",
        "\n",
        "*sampling_strategy*: Padrão 'auto', ou seja, reamostrar todas as classes, exceto a minoritária. Valores: 'majority', 'not minority', 'not majority', 'all', 'auto'\n",
        "\n",
        "*n_neighbors*: tamanho da vizinhança a ser considerado para calcular os vizinhos mais próximos.\n",
        "\n",
        "*kind_sel*: Estratégia usada para excluir amostras. Valores: 'all', 'mode'.\n",
        "\n",
        "Para mais informações [link](https://imbalanced-learn.org/stable/references/generated/imblearn.under_sampling.EditedNearestNeighbours.html)."
      ]
    },
    {
      "cell_type": "code",
      "execution_count": 11,
      "metadata": {},
      "outputs": [
        {
          "data": {
            "text/plain": [
              "{'kind_sel': 'all',\n",
              " 'n_jobs': None,\n",
              " 'n_neighbors': 3,\n",
              " 'sampling_strategy': 'auto'}"
            ]
          },
          "execution_count": 11,
          "metadata": {},
          "output_type": "execute_result"
        }
      ],
      "source": [
        "enn = EditedNearestNeighbours()\n",
        "enn.get_params()"
      ]
    },
    {
      "cell_type": "code",
      "execution_count": 12,
      "metadata": {
        "colab": {
          "base_uri": "https://localhost:8080/",
          "height": 265
        },
        "id": "BDU3j9GRrLra",
        "outputId": "85d3c169-2951-48c7-92fc-c44e232a0313"
      },
      "outputs": [
        {
          "data": {
            "image/png": "[encoded data removed]",
            "text/plain": [
              "<Figure size 640x480 with 1 Axes>"
            ]
          },
          "metadata": {},
          "output_type": "display_data"
        }
      ],
      "source": [
        "X_train_enn, y_train_enn = enn.fit_resample(X_train, y_train)\n",
        "\n",
        "#Classes filtradas usando ENN\n",
        "plot_2d_space(X_train_enn, y_train_enn, feature_0, feature_1)"
      ]
    },
    {
      "cell_type": "code",
      "execution_count": 13,
      "metadata": {
        "colab": {
          "base_uri": "https://localhost:8080/"
        },
        "id": "7g-KvfAqGyax",
        "outputId": "d1da7b7f-5e8c-47e6-a458-10c92092e784"
      },
      "outputs": [
        {
          "data": {
            "text/plain": [
              "B    217\n",
              "M    148\n",
              "Name: diagnosis, dtype: int64"
            ]
          },
          "execution_count": 13,
          "metadata": {},
          "output_type": "execute_result"
        }
      ],
      "source": [
        "y_train_enn.value_counts()"
      ]
    },
    {
      "cell_type": "code",
      "execution_count": 14,
      "metadata": {
        "colab": {
          "base_uri": "https://localhost:8080/"
        },
        "id": "RyBVypw12P91",
        "outputId": "13a37b19-7aed-438a-aa2b-b438bea0f914"
      },
      "outputs": [
        {
          "name": "stdout",
          "output_type": "stream",
          "text": [
            "Porcentegem de redução: 8.29%\n"
          ]
        }
      ],
      "source": [
        "print(\"Porcentegem de redução: %.2f%%\" % (percentage(y_train.count(), y_train_enn.count())))"
      ]
    },
    {
      "cell_type": "code",
      "execution_count": 15,
      "metadata": {
        "colab": {
          "base_uri": "https://localhost:8080/"
        },
        "id": "MC4Il-pAGSCA",
        "outputId": "88d5272a-7a25-4f68-eed3-69878df2b09c"
      },
      "outputs": [
        {
          "name": "stdout",
          "output_type": "stream",
          "text": [
            "              precision    recall  f1-score   support\n",
            "\n",
            "           B       0.93      0.98      0.95       107\n",
            "           M       0.97      0.88      0.92        64\n",
            "\n",
            "    accuracy                           0.94       171\n",
            "   macro avg       0.95      0.93      0.94       171\n",
            "weighted avg       0.94      0.94      0.94       171\n",
            "\n"
          ]
        }
      ],
      "source": [
        "model = KNeighborsClassifier()\n",
        "\n",
        "model.fit(X_train_enn, y_train_enn)\n",
        "\n",
        "y_pred = model.predict(X_test)\n",
        "\n",
        "print(classification_report(y_test, y_pred))"
      ]
    },
    {
      "cell_type": "markdown",
      "metadata": {
        "id": "yVTA0qtcz1IV"
      },
      "source": [
        "## Condensed Nearest Neighbour **(CNN)**\n",
        "\n",
        "\n",
        "Parâmetros: \n",
        "\n",
        "*sampling_strategy*: Padrão 'auto', ou seja, reamostrar todas as classes, exceto a minoritária. Valores: 'majority', 'not minority', 'not majority', 'all', 'auto'\n",
        "\n",
        "*n_neighbors*: tamanho da vizinhança a ser considerado para calcular os vizinhos mais próximos.\n",
        "\n",
        "*random_state*: controla a randomização do algoritmo.\n",
        "\n",
        "*n_seeds_S*: Número de amostras a extrair para construir o conjunto S. Padrão = 1.\n",
        "\n",
        "Para mais informações [link](https://imbalanced-learn.org/stable/references/generated/imblearn.under_sampling.CondensedNearestNeighbour.html)."
      ]
    },
    {
      "cell_type": "code",
      "execution_count": 16,
      "metadata": {},
      "outputs": [
        {
          "data": {
            "text/plain": [
              "{'n_jobs': None,\n",
              " 'n_neighbors': None,\n",
              " 'n_seeds_S': 1,\n",
              " 'random_state': None,\n",
              " 'sampling_strategy': 'auto'}"
            ]
          },
          "execution_count": 16,
          "metadata": {},
          "output_type": "execute_result"
        }
      ],
      "source": [
        "cnn = CondensedNearestNeighbour()\n",
        "cnn.get_params()"
      ]
    },
    {
      "cell_type": "code",
      "execution_count": 17,
      "metadata": {
        "colab": {
          "base_uri": "https://localhost:8080/",
          "height": 265
        },
        "id": "UaTlU39oyWq5",
        "outputId": "9d3b2e58-70db-4901-feb6-65dbd3699d98"
      },
      "outputs": [
        {
          "data": {
            "image/png": "[encoded data removed]",
            "text/plain": [
              "<Figure size 640x480 with 1 Axes>"
            ]
          },
          "metadata": {},
          "output_type": "display_data"
        }
      ],
      "source": [
        "X_train_cnn, y_train_cnn = cnn.fit_resample(X_train, y_train)\n",
        "\n",
        "#Classes filtradas usando CNN\n",
        "plot_2d_space(X_train_cnn, y_train_cnn, feature_0, feature_1)"
      ]
    },
    {
      "cell_type": "code",
      "execution_count": 18,
      "metadata": {
        "colab": {
          "base_uri": "https://localhost:8080/"
        },
        "id": "3fVe44a8Hvv6",
        "outputId": "ec7071e9-e752-4b3a-e476-7d15a0b23610"
      },
      "outputs": [
        {
          "data": {
            "text/plain": [
              "M    148\n",
              "B     36\n",
              "Name: diagnosis, dtype: int64"
            ]
          },
          "execution_count": 18,
          "metadata": {},
          "output_type": "execute_result"
        }
      ],
      "source": [
        "y_train_cnn.value_counts()"
      ]
    },
    {
      "cell_type": "code",
      "execution_count": 19,
      "metadata": {
        "colab": {
          "base_uri": "https://localhost:8080/"
        },
        "id": "2Ld3Up-OH19H",
        "outputId": "b12763bc-4307-4eb0-c7af-d19403d844ba"
      },
      "outputs": [
        {
          "name": "stdout",
          "output_type": "stream",
          "text": [
            "              precision    recall  f1-score   support\n",
            "\n",
            "           B       0.92      0.98      0.95       107\n",
            "           M       0.96      0.86      0.91        64\n",
            "\n",
            "    accuracy                           0.94       171\n",
            "   macro avg       0.94      0.92      0.93       171\n",
            "weighted avg       0.94      0.94      0.93       171\n",
            "\n"
          ]
        }
      ],
      "source": [
        "model = KNeighborsClassifier()\n",
        "\n",
        "model.fit(X_train_cnn, y_train_cnn)\n",
        "\n",
        "y_pred = model.predict(X_test)\n",
        "\n",
        "print(classification_report(y_test, y_pred))"
      ]
    },
    {
      "cell_type": "code",
      "execution_count": 20,
      "metadata": {
        "colab": {
          "base_uri": "https://localhost:8080/"
        },
        "id": "wVJkbKS63KNp",
        "outputId": "a05ae4e0-a02f-4934-c601-12b743acd611"
      },
      "outputs": [
        {
          "name": "stdout",
          "output_type": "stream",
          "text": [
            "Porcentegem de redução: 53.77%\n"
          ]
        }
      ],
      "source": [
        "print(\"Porcentegem de redução: %.2f%%\" % (percentage(y_train.count(), y_train_cnn.count())))"
      ]
    },
    {
      "cell_type": "markdown",
      "metadata": {
        "id": "idQuS8oIK_pB"
      },
      "source": [
        "# **Seleção de Atributos**"
      ]
    },
    {
      "cell_type": "markdown",
      "metadata": {
        "id": "VtmQgj2IMizG"
      },
      "source": [
        "## **Filters**"
      ]
    },
    {
      "cell_type": "markdown",
      "metadata": {
        "id": "80PJFzFSMYbN"
      },
      "source": [
        "## Limiar de Variância\n",
        "\n",
        "O limiar de variância é o método mais simples de seleção de features. Caso a feature não tenha determinada variância, ela deve ser removida."
      ]
    },
    {
      "cell_type": "code",
      "execution_count": 21,
      "metadata": {
        "colab": {
          "base_uri": "https://localhost:8080/"
        },
        "id": "DaAR0Ke6LJNr",
        "outputId": "45409b5f-7a6e-4096-c487-588ff08d16ff"
      },
      "outputs": [
        {
          "name": "stdout",
          "output_type": "stream",
          "text": [
            "Número inicial de features: 30\n",
            "Features selecionadas: 10\n"
          ]
        }
      ],
      "source": [
        "from sklearn.feature_selection import VarianceThreshold\n",
        "\n",
        "filter_variance = VarianceThreshold(0.8)\n",
        "X_filtered = filter_variance.fit_transform(X)\n",
        "\n",
        "# quantas features conseguimos remover?\n",
        "print(\"Número inicial de features: %d\" %(X.shape[1]))\n",
        "print(\"Features selecionadas: %d\" %(X_filtered.shape[1]))"
      ]
    },
    {
      "cell_type": "code",
      "execution_count": 22,
      "metadata": {
        "id": "Lw7Odw1KL1uD"
      },
      "outputs": [],
      "source": [
        "X_train, X_test, y_train, y_test = train_test_split(X_filtered, y, test_size=0.3, stratify=y, random_state=42)"
      ]
    },
    {
      "cell_type": "code",
      "execution_count": 23,
      "metadata": {
        "colab": {
          "base_uri": "https://localhost:8080/"
        },
        "id": "zC4l94ieLzW7",
        "outputId": "f5ad27ea-32c7-4b74-9588-24b604b222d1"
      },
      "outputs": [
        {
          "name": "stdout",
          "output_type": "stream",
          "text": [
            "              precision    recall  f1-score   support\n",
            "\n",
            "           B       0.91      0.99      0.95       107\n",
            "           M       0.98      0.83      0.90        64\n",
            "\n",
            "    accuracy                           0.93       171\n",
            "   macro avg       0.94      0.91      0.92       171\n",
            "weighted avg       0.93      0.93      0.93       171\n",
            "\n"
          ]
        }
      ],
      "source": [
        "model = KNeighborsClassifier()\n",
        "\n",
        "model.fit(X_train, y_train)\n",
        "\n",
        "y_pred = model.predict(X_test)\n",
        "\n",
        "print(classification_report(y_test, y_pred))"
      ]
    },
    {
      "cell_type": "markdown",
      "metadata": {
        "id": "bEDMrfiLMIsk"
      },
      "source": [
        "# **Wrapper**\n",
        "\n",
        "Aqui, o processo de escolha de features depende de outros classificadores. Escolhemos um classificador linear, onde os coeficientes, ou medida de importância interna ao classificador, são utilizados para escolha das features mais importantes. Esse método é feito de forma recursiva, onde podemos controlar a quantidade de passos."
      ]
    },
    {
      "cell_type": "code",
      "execution_count": 24,
      "metadata": {
        "colab": {
          "base_uri": "https://localhost:8080/"
        },
        "id": "VhRW6vkQLgCl",
        "outputId": "0554e9b9-48a2-4264-8d78-a7d2bdf77a30"
      },
      "outputs": [
        {
          "name": "stdout",
          "output_type": "stream",
          "text": [
            "(569, 2)\n"
          ]
        }
      ],
      "source": [
        "# Recursive Feature Elimination (RFE)\n",
        "from sklearn.feature_selection import RFE\n",
        "from sklearn.svm import SVC\n",
        "\n",
        "base_estimator = SVC(kernel=\"linear\")\n",
        "rfe = RFE(base_estimator, n_features_to_select=2, step=1)\n",
        "X_filtered = rfe.fit_transform(X, y)\n",
        "\n",
        "print(X_filtered.shape)"
      ]
    },
    {
      "cell_type": "code",
      "execution_count": 25,
      "metadata": {
        "colab": {
          "base_uri": "https://localhost:8080/",
          "height": 266
        },
        "id": "BIKbdpeKLh-0",
        "outputId": "7c05c962-dcc3-4bae-bc95-ed789c1300c2"
      },
      "outputs": [
        {
          "data": {
            "image/png": "[encoded data removed]",
            "text/plain": [
              "<Figure size 640x480 with 1 Axes>"
            ]
          },
          "metadata": {},
          "output_type": "display_data"
        }
      ],
      "source": [
        "# visualizando as features selecionadas\n",
        "df = pd.DataFrame(X_filtered, columns=[0, 1])\n",
        "plot_2d_space(df, y, 0, 1)"
      ]
    },
    {
      "cell_type": "code",
      "execution_count": 26,
      "metadata": {
        "colab": {
          "base_uri": "https://localhost:8080/"
        },
        "id": "j6kI5ZPtGUwb",
        "outputId": "2a8efbb7-47ea-4e51-a368-9b881b2b4140"
      },
      "outputs": [
        {
          "name": "stdout",
          "output_type": "stream",
          "text": [
            "['radius_Mean' 'texture_Mean' 'periMeter_Mean' 'area_Mean'\n",
            " 'sMoothness_Mean' 'coMpactness_Mean' 'concavity_Mean'\n",
            " 'concave points_Mean' 'syMMetry_Mean' 'fractal_diMension_Mean'\n",
            " 'radius_se' 'texture_se' 'periMeter_se' 'area_se' 'sMoothness_se'\n",
            " 'coMpactness_se' 'concavity_se' 'concave points_se' 'syMMetry_se'\n",
            " 'fractal_diMension_se' 'radius_worst' 'texture_worst' 'periMeter_worst'\n",
            " 'area_worst' 'sMoothness_worst' 'coMpactness_worst' 'concavity_worst'\n",
            " 'concave points_worst' 'syMMetry_worst' 'fractal_diMension_worst']\n"
          ]
        }
      ],
      "source": [
        "#Nomes das features vistas durante o ajuste\n",
        "ft_names = rfe.feature_names_in_\n",
        "print(ft_names)"
      ]
    },
    {
      "cell_type": "code",
      "execution_count": 27,
      "metadata": {
        "colab": {
          "base_uri": "https://localhost:8080/"
        },
        "id": "5W0V4CLRFPO-",
        "outputId": "6203b83f-bb1a-4950-a78b-cf1e097cb580"
      },
      "outputs": [
        {
          "name": "stdout",
          "output_type": "stream",
          "text": [
            "Suporte\n",
            "[False False False False False False False False False False False False\n",
            " False False False False False False False False False False False False\n",
            " False False  True  True False False]\n",
            "\n",
            "Features selecionadas:\n",
            "['concavity_worst' 'concave points_worst']\n"
          ]
        }
      ],
      "source": [
        "#Máscara de features selecionadas.\n",
        "print(\"Suporte\")\n",
        "print(rfe.support_)\n",
        "print(\"\\nFeatures selecionadas:\")\n",
        "print(ft_names[rfe.support_])"
      ]
    },
    {
      "cell_type": "code",
      "execution_count": 28,
      "metadata": {
        "colab": {
          "base_uri": "https://localhost:8080/"
        },
        "id": "haYUsQU3FYHP",
        "outputId": "1809e914-4e09-42ff-f78f-f35699915507"
      },
      "outputs": [
        {
          "data": {
            "text/plain": [
              "array([ 7, 20, 15, 29, 12, 11,  8,  9, 10, 26, 24,  5, 13, 21, 22, 18, 17,\n",
              "       19, 27, 25,  6, 14, 23, 28,  4,  3,  1,  1,  2, 16])"
            ]
          },
          "execution_count": 28,
          "metadata": {},
          "output_type": "execute_result"
        }
      ],
      "source": [
        "#Ranking\n",
        "rfe.ranking_"
      ]
    }
  ],
  "metadata": {
    "colab": {
      "provenance": [],
      "toc_visible": true
    },
    "kernelspec": {
      "display_name": "Python 3",
      "name": "python3"
    },
    "language_info": {
      "codemirror_mode": {
        "name": "ipython",
        "version": 3
      },
      "file_extension": ".py",
      "mimetype": "text/x-python",
      "name": "python",
      "nbconvert_exporter": "python",
      "pygments_lexer": "ipython3",
      "version": "3.10.12"
    }
  },
  "nbformat": 4,
  "nbformat_minor": 0
}
